{
  "nbformat": 4,
  "nbformat_minor": 0,
  "metadata": {
    "colab": {
      "name": "handsonMod4.ipynb",
      "provenance": [],
      "authorship_tag": "ABX9TyMTKJ4/D22dGcuhUsLdOrI/",
      "include_colab_link": true
    },
    "kernelspec": {
      "name": "python3",
      "display_name": "Python 3"
    }
  },
  "cells": [
    {
      "cell_type": "markdown",
      "metadata": {
        "id": "view-in-github",
        "colab_type": "text"
      },
      "source": [
        "<a href=\"https://colab.research.google.com/github/rmontteiro/ML_IGTI_bootcamp/blob/master/handsonMod4.ipynb\" target=\"_parent\"><img src=\"https://colab.research.google.com/assets/colab-badge.svg\" alt=\"Open In Colab\"/></a>"
      ]
    },
    {
      "cell_type": "code",
      "metadata": {
        "id": "vcT89sk_N44G"
      },
      "source": [
        "#!/usr/bin/env python\n",
        "# -*- coding: utf-8 -*-"
      ],
      "execution_count": null,
      "outputs": []
    },
    {
      "cell_type": "markdown",
      "metadata": {
        "id": "NIx7k_I9Tdg6"
      },
      "source": [
        "APLICATIVO PARA VERIFICAR SE O SER VIVO É QUADRUPEDE OU BIPEDE\n",
        "\n"
      ]
    },
    {
      "cell_type": "code",
      "metadata": {
        "id": "S4VITrrJUEez"
      },
      "source": [
        "# Quadrupede = 1\n",
        "# Bipede = -1 \n",
        "# cao = [-1,-1,1,1] resposta = 1\n",
        "# gato = [1,1,1,1] resposta = 1\n",
        "# cavalo = [1,1,-1,1] resposta = 1\n",
        "# homem = [-1,-1,-1, 1] resposta = 1\n"
      ],
      "execution_count": null,
      "outputs": []
    },
    {
      "cell_type": "code",
      "metadata": {
        "id": "dBDExdekUdzS"
      },
      "source": [
        "# pesos (sinapses)\n",
        "w = [0,0,0,0]\n",
        "\n",
        "# entradas\n",
        "x = [[-1,-1,1,1],\n",
        "     [1,1,1,1],\n",
        "     [1,1,-1,1],\n",
        "     [-1,-1,-1, 1]]\n",
        "\n",
        "#respostas esperadas\n",
        "t = [1,1,1,-1]\n",
        "\n",
        "#bias (ajuste fino)\n",
        "b = 0\n",
        "\n",
        "#saida\n",
        "y = 0\n",
        "\n",
        "#numero maximo de interações\n",
        "max_int = 10\n",
        "\n",
        "# taxa de aprendizado\n",
        "\n",
        "taxa_aprendizado = 1\n",
        "\n",
        "#soma\n",
        "soma = 0 \n",
        "\n",
        "#theshold\n",
        "threshold = 1\n",
        "\n",
        "#nome do animal\n",
        "animal = \"\"\n",
        "\n",
        "# resposta = acerto ou falha\n",
        "resposta = \"\""
      ],
      "execution_count": null,
      "outputs": []
    },
    {
      "cell_type": "code",
      "metadata": {
        "id": "n66uPvgsVbp1"
      },
      "source": [
        "# dicionario de dados\n",
        "d = {'-1,-1,1,1' :'cao',\n",
        "     '1,1,1,1' : 'gato',\n",
        "     '1,1,-1,1' : 'cavalo',\n",
        "     '-1,-1,-1,1' : 'homem'} \n",
        "\n",
        "print ('Em Treinamento')"
      ],
      "execution_count": null,
      "outputs": []
    }
  ]
}