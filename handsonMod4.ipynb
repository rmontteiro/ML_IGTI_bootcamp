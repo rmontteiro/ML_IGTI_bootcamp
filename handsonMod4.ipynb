{
  "nbformat": 4,
  "nbformat_minor": 0,
  "metadata": {
    "colab": {
      "name": "handsonMod4.ipynb",
      "provenance": [],
      "authorship_tag": "ABX9TyPW1LqQrzu94dRL8H7hKzmS",
      "include_colab_link": true
    },
    "kernelspec": {
      "name": "python3",
      "display_name": "Python 3"
    }
  },
  "cells": [
    {
      "cell_type": "markdown",
      "metadata": {
        "id": "view-in-github",
        "colab_type": "text"
      },
      "source": [
        "<a href=\"https://colab.research.google.com/github/rmontteiro/ML_IGTI_bootcamp/blob/master/handsonMod4.ipynb\" target=\"_parent\"><img src=\"https://colab.research.google.com/assets/colab-badge.svg\" alt=\"Open In Colab\"/></a>"
      ]
    },
    {
      "cell_type": "code",
      "metadata": {
        "id": "vcT89sk_N44G"
      },
      "source": [
        "#!/usr/bin/env python\n",
        "# -*- coding: utf-8 -*-"
      ],
      "execution_count": null,
      "outputs": []
    },
    {
      "cell_type": "markdown",
      "metadata": {
        "id": "NIx7k_I9Tdg6"
      },
      "source": [
        "APLICATIVO PARA VERIFICAR SE O SER VIVO É QUADRUPEDE OU BIPEDE\n",
        "\n"
      ]
    },
    {
      "cell_type": "code",
      "metadata": {
        "id": "S4VITrrJUEez"
      },
      "source": [
        "# Quadrupede = 1\n",
        "# Bipede = -1 \n",
        "# cao = [-1,-1,1,1] resposta = 1\n",
        "# gato = [1,1,1,1] resposta = 1\n",
        "# cavalo = [1,1,-1,1] resposta = 1\n",
        "# homem = [-1,-1,-1, 1] resposta = 1\n"
      ],
      "execution_count": null,
      "outputs": []
    },
    {
      "cell_type": "code",
      "metadata": {
        "id": "dBDExdekUdzS"
      },
      "source": [
        "# pesos (sinapses)\n",
        "w = [0,0,0,0]\n",
        "\n",
        "# entradas\n",
        "x = [[-1,-1,1,1],\n",
        "     [1,1,1,1],\n",
        "     [1,1,-1,1],\n",
        "     [-1,-1,-1, 1]]\n",
        "\n",
        "#respostas esperadas\n",
        "t = [1,1,1,-1]\n",
        "\n",
        "#bias (ajuste fino)\n",
        "b = 0\n",
        "\n",
        "#saida\n",
        "y = 0\n",
        "\n",
        "#numero maximo de interações\n",
        "max_int = 10\n",
        "\n",
        "# taxa de aprendizado\n",
        "\n",
        "taxa_aprendizado = 1\n",
        "\n",
        "#soma\n",
        "soma = 0 \n",
        "\n",
        "#theshold\n",
        "threshold = 1\n",
        "\n",
        "#nome do animal\n",
        "animal = \"\"\n",
        "\n",
        "# resposta = acerto ou falha\n",
        "resposta = \"\""
      ],
      "execution_count": 1,
      "outputs": []
    },
    {
      "cell_type": "code",
      "metadata": {
        "id": "n66uPvgsVbp1",
        "outputId": "dd563778-5099-4781-ea99-0ba91b45f290",
        "colab": {
          "base_uri": "https://localhost:8080/"
        }
      },
      "source": [
        "# dicionario de dados\n",
        "d = {'-1,-1,1,1' :'cao',\n",
        "     '1,1,1,1' : 'gato',\n",
        "     '1,1,-1,1' : 'cavalo',\n",
        "     '-1,-1,-1,1' : 'homem'} \n",
        "\n",
        "print ('Em Treinamento')"
      ],
      "execution_count": 2,
      "outputs": [
        {
          "output_type": "stream",
          "text": [
            "Em Treinamento\n"
          ],
          "name": "stdout"
        }
      ]
    },
    {
      "cell_type": "code",
      "metadata": {
        "id": "YNH1nBxw7WK1",
        "outputId": "29cb3670-7422-49e4-c19b-9809317ffcea",
        "colab": {
          "base_uri": "https://localhost:8080/"
        }
      },
      "source": [
        "# função para converter listas em strings\n",
        "def listTostring(List):\n",
        "  s = str(List).strip('[]')\n",
        "  s = s.replace(' ', '')\n",
        "  #print ('função' + s)\n",
        "  return s\n",
        "# inicio do algoritimo\n",
        "for k in range(1, max_int):\n",
        "  acertos = 0\n",
        "  print('INTERAÇÃO ' + str(k)+'------------------------------')\n",
        "  for i in range (0, len(x)):\n",
        "    soma = 0\n",
        "\n",
        "    #pega o nome do animal no dicionário\n",
        "    if (listTostring(x[i])) in d:\n",
        "      animal = d[listTostring(x[i])]\n",
        "    else:\n",
        "      animal = \"\"\n",
        "    # para calcular saida do perceptron, cada entrada x  é multiplicada pelo seu peso correspondente\n",
        "    for j in range(0, len(x[i])):\n",
        "      soma += x[i][j] *w[j]\n",
        "\n",
        "    #a saida é igual a adição do bias com a soma anterior\n",
        "    y_in = b + soma \n",
        "    # print('y_in = \", str(y_in))\n",
        "\n",
        "    #função de saida determinada pelo threshold\n",
        "    if y_in > threshold:\n",
        "      y = 1\n",
        "    elif y_in >= -threshold and y_in <= threshold:\n",
        "      y = 0\n",
        "    else:\n",
        "      y = -1\n",
        "    \n",
        "    #atualiza os pesos caso a saida  não corresponda  ao valor esperado\n",
        "    if y == t[i]:\n",
        "      acertos +=1\n",
        "      resposta = ' acerto'\n",
        "    else:\n",
        "      for j in range (0, len(w)):\n",
        "        #peso anterior  + (taxa de aprendizado*valor esperado*valor de x no vetor)\n",
        "        w[j] = w[j] + (taxa_aprendizado * t[i] * x[i][j])\n",
        "        print ('Novo Peso' + str(j)+' '+str(w[j]))\n",
        "      #bias ou erro = classe anterior - classe atual\n",
        "      b = t[i] - y\n",
        "      resposta = 'Falha - Peso atualizado' + 'Bias = '+ str(b)\n",
        "    #imprime a resposta\n",
        "    if y == 1:\n",
        "      print(animal+'= quadrupede =' + resposta)\n",
        "    elif y==0:\n",
        "      print(animal+' = padrão não identificado = ' + resposta)\n",
        "    elif y==-1:\n",
        "      print(animal+' = Bípede = ' + resposta)\n",
        "  \n",
        "  if acertos ==len(x):\n",
        "    print('Funcionalidade aprendida com '+str(k)+' interações' )\n",
        "    break;\n",
        "  print(' ')\n",
        "print('Finalizado')\n",
        "\n",
        "\n",
        "  \n",
        "\n",
        "    "
      ],
      "execution_count": 15,
      "outputs": [
        {
          "output_type": "stream",
          "text": [
            "INTERAÇÃO 1------------------------------\n",
            "cao= quadrupede =acerto\n",
            "gato= quadrupede =acerto\n",
            "cavalo= quadrupede =acerto\n",
            "homem = Bípede = acerto\n",
            "Funcionalidade aprendida com 1 interações\n",
            "Finalizado\n"
          ],
          "name": "stdout"
        }
      ]
    }
  ]
}