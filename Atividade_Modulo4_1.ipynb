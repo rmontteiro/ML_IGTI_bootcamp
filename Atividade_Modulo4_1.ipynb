{
  "nbformat": 4,
  "nbformat_minor": 0,
  "metadata": {
    "colab": {
      "name": "Atividade Modulo4.1.ipynb",
      "provenance": [],
      "collapsed_sections": [],
      "authorship_tag": "ABX9TyOm+N00o90U5ZzTi1u9NFGo",
      "include_colab_link": true
    },
    "kernelspec": {
      "name": "python3",
      "display_name": "Python 3"
    }
  },
  "cells": [
    {
      "cell_type": "markdown",
      "metadata": {
        "id": "view-in-github",
        "colab_type": "text"
      },
      "source": [
        "<a href=\"https://colab.research.google.com/github/rmontteiro/ML_IGTI_bootcamp/blob/master/Atividade_Modulo4_1.ipynb\" target=\"_parent\"><img src=\"https://colab.research.google.com/assets/colab-badge.svg\" alt=\"Open In Colab\"/></a>"
      ]
    },
    {
      "cell_type": "code",
      "metadata": {
        "id": "G6Br-swjkAon"
      },
      "source": [
        "#impoortando bibliotecas\n",
        "import pandas as pd\n",
        "import numpy as np\n",
        "import matplotlib.pyplot as plt\n",
        "from scipy import stats"
      ],
      "execution_count": 1,
      "outputs": []
    },
    {
      "cell_type": "code",
      "metadata": {
        "id": "_XmcuFXNmzFu"
      },
      "source": [
        "# Base sem outlier:\n",
        "xi = [3246, 3476, 3724, 3773, 3837, 3968, 4198, 4048, 4170, 4226, 4788, 4009, 3568, 4357]\n",
        "\n",
        "#Base com outlier:\n",
        "xy = [6799, 3476, 3724, 3773, 3837, 3968, 4198, 4048, 4170, 4226, 4788, 4009, 3568, 4357]"
      ],
      "execution_count": 2,
      "outputs": []
    },
    {
      "cell_type": "code",
      "metadata": {
        "id": "m4x6E4wem-sK"
      },
      "source": [
        "def print_full(x):\n",
        "  pd.set_option('display.max_rows', len(x))\n",
        "  pd.set_option('display.max_columns', len(x))\n",
        "  print(x)\n",
        "  pd.reset_option('display.max_rows')\n",
        "  pd.reset_option('display.max_columns')"
      ],
      "execution_count": 3,
      "outputs": []
    },
    {
      "cell_type": "code",
      "metadata": {
        "id": "GRPj3FVgoSyL"
      },
      "source": [
        "#Cálculo da media, mediana e moda\n",
        "xi_mean = np.mean(xi)\n",
        "xy_mean = np.mean(xy)\n",
        "mediana_xi= np.median(xi)\n",
        "mediana_xy= np.median(xy)\n",
        "moda_xi = stats.mode(xi)\n",
        "moda_xy = stats.mode(xy)\n"
      ],
      "execution_count": 4,
      "outputs": []
    },
    {
      "cell_type": "code",
      "metadata": {
        "id": "1tbEaMXfpSf1",
        "outputId": "8980a30f-4402-44e5-de44-2b74f3c0abdb",
        "colab": {
          "base_uri": "https://localhost:8080/"
        }
      },
      "source": [
        "#Exibindo resultados\n",
        "\n",
        "#Lista sem anomalias\n",
        "print('Minha lista sem anomalias:' + str(xi))\n",
        "print('A media da minha lista é:' + str(xi_mean))\n",
        "print('A mediana da minha lista é:' + str(mediana_xi))\n",
        "print('A moda da minha lista é:' + str(moda_xi))\n",
        "\n",
        "#Lista com anomalias\n",
        "print('Minha lista com anomalias:' + str(xy))\n",
        "print('A media da minha lista é:' + str(xy_mean))\n",
        "print('A mediana da minha lista é:' + str(mediana_xy))\n",
        "print('A moda da minha lista é:' + str(moda_xy))\n"
      ],
      "execution_count": 5,
      "outputs": [
        {
          "output_type": "stream",
          "text": [
            "Minha lista sem anomalias:[3246, 3476, 3724, 3773, 3837, 3968, 4198, 4048, 4170, 4226, 4788, 4009, 3568, 4357]\n",
            "A media da minha lista é:3956.285714285714\n",
            "A mediana da minha lista é:3988.5\n",
            "A moda da minha lista é:ModeResult(mode=array([3246]), count=array([1]))\n",
            "Minha lista com anomalias:[6799, 3476, 3724, 3773, 3837, 3968, 4198, 4048, 4170, 4226, 4788, 4009, 3568, 4357]\n",
            "A media da minha lista é:4210.071428571428\n",
            "A mediana da minha lista é:4028.5\n",
            "A moda da minha lista é:ModeResult(mode=array([3476]), count=array([1]))\n"
          ],
          "name": "stdout"
        }
      ]
    },
    {
      "cell_type": "code",
      "metadata": {
        "id": "j83XHAZbrC1y"
      },
      "source": [
        "#Calculando desvio padrão\n",
        "xi_sd = np.std(xi, ddof = 1)\n",
        "xy_sd = np.std(xy, ddof = 1)"
      ],
      "execution_count": 6,
      "outputs": []
    },
    {
      "cell_type": "code",
      "metadata": {
        "id": "ItqvOlRHrS32"
      },
      "source": [
        "#Calculando o Z score\n",
        "z_score_i= (xi - xi_mean) / xi_sd\n",
        "z_score_y= (xy - xy_mean) / xy_sd\n",
        "\n",
        "df= pd.DataFrame({'Base (sem anomalias)':xi, 'Z-score (sem anomalias)':z_score_i,\n",
        "                  'Base (com anomalias)':xy, 'Z-score (com anomalias)':z_score_y})\n",
        "\n",
        "df.round(2)\n",
        "cols=['Base (sem anomalias)', 'Z-score (sem anomalias)', '\"Base (com anomalias', 'Z-score(com anomalias)']\n"
      ],
      "execution_count": 11,
      "outputs": []
    },
    {
      "cell_type": "code",
      "metadata": {
        "id": "I4Rgr0tbufrx",
        "outputId": "48325502-bc59-4b38-d136-b00661a09968",
        "colab": {
          "base_uri": "https://localhost:8080/",
          "height": 204
        }
      },
      "source": [
        "df.head()"
      ],
      "execution_count": 13,
      "outputs": [
        {
          "output_type": "execute_result",
          "data": {
            "text/html": [
              "<div>\n",
              "<style scoped>\n",
              "    .dataframe tbody tr th:only-of-type {\n",
              "        vertical-align: middle;\n",
              "    }\n",
              "\n",
              "    .dataframe tbody tr th {\n",
              "        vertical-align: top;\n",
              "    }\n",
              "\n",
              "    .dataframe thead th {\n",
              "        text-align: right;\n",
              "    }\n",
              "</style>\n",
              "<table border=\"1\" class=\"dataframe\">\n",
              "  <thead>\n",
              "    <tr style=\"text-align: right;\">\n",
              "      <th></th>\n",
              "      <th>Base (sem anomalias)</th>\n",
              "      <th>Z-score (sem anomalias)</th>\n",
              "      <th>Base (com anomalias)</th>\n",
              "      <th>Z-score (com anomalias)</th>\n",
              "    </tr>\n",
              "  </thead>\n",
              "  <tbody>\n",
              "    <tr>\n",
              "      <th>0</th>\n",
              "      <td>3246</td>\n",
              "      <td>-1.798239</td>\n",
              "      <td>6799</td>\n",
              "      <td>3.164145</td>\n",
              "    </tr>\n",
              "    <tr>\n",
              "      <th>1</th>\n",
              "      <td>3476</td>\n",
              "      <td>-1.215945</td>\n",
              "      <td>3476</td>\n",
              "      <td>-0.897170</td>\n",
              "    </tr>\n",
              "    <tr>\n",
              "      <th>2</th>\n",
              "      <td>3724</td>\n",
              "      <td>-0.588080</td>\n",
              "      <td>3724</td>\n",
              "      <td>-0.594068</td>\n",
              "    </tr>\n",
              "    <tr>\n",
              "      <th>3</th>\n",
              "      <td>3773</td>\n",
              "      <td>-0.464027</td>\n",
              "      <td>3773</td>\n",
              "      <td>-0.534181</td>\n",
              "    </tr>\n",
              "    <tr>\n",
              "      <th>4</th>\n",
              "      <td>3837</td>\n",
              "      <td>-0.301997</td>\n",
              "      <td>3837</td>\n",
              "      <td>-0.455962</td>\n",
              "    </tr>\n",
              "  </tbody>\n",
              "</table>\n",
              "</div>"
            ],
            "text/plain": [
              "   Base (sem anomalias)  ...  Z-score (com anomalias)\n",
              "0                  3246  ...                 3.164145\n",
              "1                  3476  ...                -0.897170\n",
              "2                  3724  ...                -0.594068\n",
              "3                  3773  ...                -0.534181\n",
              "4                  3837  ...                -0.455962\n",
              "\n",
              "[5 rows x 4 columns]"
            ]
          },
          "metadata": {
            "tags": []
          },
          "execution_count": 13
        }
      ]
    },
    {
      "cell_type": "code",
      "metadata": {
        "id": "X2Ax_YGDubsx",
        "outputId": "8ac849d1-e1f9-444c-fa85-3c7574038d45",
        "colab": {
          "base_uri": "https://localhost:8080/"
        }
      },
      "source": [
        "print_full(df)"
      ],
      "execution_count": 14,
      "outputs": [
        {
          "output_type": "stream",
          "text": [
            "    Base (sem anomalias)  Z-score (sem anomalias)  Base (com anomalias)  \\\n",
            "0                   3246                -1.798239                  6799   \n",
            "1                   3476                -1.215945                  3476   \n",
            "2                   3724                -0.588080                  3724   \n",
            "3                   3773                -0.464027                  3773   \n",
            "4                   3837                -0.301997                  3837   \n",
            "5                   3968                 0.029657                  3968   \n",
            "6                   4198                 0.611951                  4198   \n",
            "7                   4048                 0.232194                  4048   \n",
            "8                   4170                 0.541063                  4170   \n",
            "9                   4226                 0.682839                  4226   \n",
            "10                  4788                 2.105661                  4788   \n",
            "11                  4009                 0.133457                  4009   \n",
            "12                  3568                -0.983028                  3568   \n",
            "13                  4357                 1.014493                  4357   \n",
            "\n",
            "    Z-score (com anomalias)  \n",
            "0                  3.164145  \n",
            "1                 -0.897170  \n",
            "2                 -0.594068  \n",
            "3                 -0.534181  \n",
            "4                 -0.455962  \n",
            "5                 -0.295856  \n",
            "6                 -0.014753  \n",
            "7                 -0.198081  \n",
            "8                 -0.048975  \n",
            "9                  0.019468  \n",
            "10                 0.706335  \n",
            "11                -0.245746  \n",
            "12                -0.784729  \n",
            "13                 0.179574  \n"
          ],
          "name": "stdout"
        }
      ]
    },
    {
      "cell_type": "code",
      "metadata": {
        "id": "ja7xD0H9skL8",
        "outputId": "bf9dfb87-e766-4e2d-a2cf-75c091497fc5",
        "colab": {
          "base_uri": "https://localhost:8080/",
          "height": 295
        }
      },
      "source": [
        "#plot de distribuição nomral\n",
        "stats.probplot(xi, dist='norm', plot=plt)\n",
        "plt.show()"
      ],
      "execution_count": 15,
      "outputs": [
        {
          "output_type": "display_data",
          "data": {
            "image/png": "[encoded data removed]",
            "text/plain": [
              "<Figure size 432x288 with 1 Axes>"
            ]
          },
          "metadata": {
            "tags": [],
            "needs_background": "light"
          }
        }
      ]
    },
    {
      "cell_type": "code",
      "metadata": {
        "id": "dmcX-lI4s0S_",
        "outputId": "88df4ae9-941d-424b-f763-c75aa806c882",
        "colab": {
          "base_uri": "https://localhost:8080/",
          "height": 295
        }
      },
      "source": [
        "#plot de distribuição nomral\n",
        "stats.probplot(xy, dist='norm', plot=plt)\n",
        "plt.show()"
      ],
      "execution_count": 16,
      "outputs": [
        {
          "output_type": "display_data",
          "data": {
            "image/png": "[encoded data removed]",
            "text/plain": [
              "<Figure size 432x288 with 1 Axes>"
            ]
          },
          "metadata": {
            "tags": [],
            "needs_background": "light"
          }
        }
      ]
    },
    {
      "cell_type": "code",
      "metadata": {
        "id": "Tn6-TEWg1uAK",
        "outputId": "840f88bd-0ba4-400d-8ea5-f9cb23e82dff",
        "colab": {
          "base_uri": "https://localhost:8080/",
          "height": 297
        }
      },
      "source": [
        "df.describe(exclude=z_score_i)"
      ],
      "execution_count": 40,
      "outputs": [
        {
          "output_type": "execute_result",
          "data": {
            "text/html": [
              "<div>\n",
              "<style scoped>\n",
              "    .dataframe tbody tr th:only-of-type {\n",
              "        vertical-align: middle;\n",
              "    }\n",
              "\n",
              "    .dataframe tbody tr th {\n",
              "        vertical-align: top;\n",
              "    }\n",
              "\n",
              "    .dataframe thead th {\n",
              "        text-align: right;\n",
              "    }\n",
              "</style>\n",
              "<table border=\"1\" class=\"dataframe\">\n",
              "  <thead>\n",
              "    <tr style=\"text-align: right;\">\n",
              "      <th></th>\n",
              "      <th>Base (sem anomalias)</th>\n",
              "      <th>Base (com anomalias)</th>\n",
              "    </tr>\n",
              "  </thead>\n",
              "  <tbody>\n",
              "    <tr>\n",
              "      <th>count</th>\n",
              "      <td>14.000000</td>\n",
              "      <td>14.000000</td>\n",
              "    </tr>\n",
              "    <tr>\n",
              "      <th>mean</th>\n",
              "      <td>3956.285714</td>\n",
              "      <td>4210.071429</td>\n",
              "    </tr>\n",
              "    <tr>\n",
              "      <th>std</th>\n",
              "      <td>394.989665</td>\n",
              "      <td>818.208029</td>\n",
              "    </tr>\n",
              "    <tr>\n",
              "      <th>min</th>\n",
              "      <td>3246.000000</td>\n",
              "      <td>3476.000000</td>\n",
              "    </tr>\n",
              "    <tr>\n",
              "      <th>25%</th>\n",
              "      <td>3736.250000</td>\n",
              "      <td>3789.000000</td>\n",
              "    </tr>\n",
              "    <tr>\n",
              "      <th>50%</th>\n",
              "      <td>3988.500000</td>\n",
              "      <td>4028.500000</td>\n",
              "    </tr>\n",
              "    <tr>\n",
              "      <th>75%</th>\n",
              "      <td>4191.000000</td>\n",
              "      <td>4219.000000</td>\n",
              "    </tr>\n",
              "    <tr>\n",
              "      <th>max</th>\n",
              "      <td>4788.000000</td>\n",
              "      <td>6799.000000</td>\n",
              "    </tr>\n",
              "  </tbody>\n",
              "</table>\n",
              "</div>"
            ],
            "text/plain": [
              "       Base (sem anomalias)  Base (com anomalias)\n",
              "count             14.000000             14.000000\n",
              "mean            3956.285714           4210.071429\n",
              "std              394.989665            818.208029\n",
              "min             3246.000000           3476.000000\n",
              "25%             3736.250000           3789.000000\n",
              "50%             3988.500000           4028.500000\n",
              "75%             4191.000000           4219.000000\n",
              "max             4788.000000           6799.000000"
            ]
          },
          "metadata": {
            "tags": []
          },
          "execution_count": 40
        }
      ]
    },
    {
      "cell_type": "code",
      "metadata": {
        "id": "6Flb2KGQxNaZ"
      },
      "source": [
        "Base_sem_anomalias = df['Base (sem anomalias)']\n",
        "Base_com_anomalias = df['Base (com anomalias)']"
      ],
      "execution_count": 45,
      "outputs": []
    },
    {
      "cell_type": "code",
      "metadata": {
        "id": "3B5VNS1vyPvp",
        "outputId": "ab1c10c6-3c2c-4b11-e882-25392c3faa3f",
        "colab": {
          "base_uri": "https://localhost:8080/",
          "height": 564
        }
      },
      "source": [
        "plt.figure(figsize=(6, 7))\n",
        "plt.boxplot(Base_sem_anomalias)"
      ],
      "execution_count": 50,
      "outputs": [
        {
          "output_type": "execute_result",
          "data": {
            "text/plain": [
              "{'boxes': [<matplotlib.lines.Line2D at 0x7f3b6e406c88>],\n",
              " 'caps': [<matplotlib.lines.Line2D at 0x7f3b6e406c18>,\n",
              "  <matplotlib.lines.Line2D at 0x7f3b6e41d5c0>],\n",
              " 'fliers': [<matplotlib.lines.Line2D at 0x7f3b6e41d0f0>],\n",
              " 'means': [],\n",
              " 'medians': [<matplotlib.lines.Line2D at 0x7f3b6e41d6d8>],\n",
              " 'whiskers': [<matplotlib.lines.Line2D at 0x7f3b6e406320>,\n",
              "  <matplotlib.lines.Line2D at 0x7f3b6e406be0>]}"
            ]
          },
          "metadata": {
            "tags": []
          },
          "execution_count": 50
        },
        {
          "output_type": "display_data",
          "data": {
            "image/png": "[encoded data removed]",
            "text/plain": [
              "<Figure size 432x504 with 1 Axes>"
            ]
          },
          "metadata": {
            "tags": [],
            "needs_background": "light"
          }
        }
      ]
    },
    {
      "cell_type": "code",
      "metadata": {
        "id": "PTSdt-exydF9",
        "outputId": "54d536e0-e5c0-4a80-e226-acde2a34d625",
        "colab": {
          "base_uri": "https://localhost:8080/",
          "height": 564
        }
      },
      "source": [
        "plt.figure(figsize=(6, 7))\n",
        "plt.boxplot(Base_com_anomalias)\n"
      ],
      "execution_count": 51,
      "outputs": [
        {
          "output_type": "execute_result",
          "data": {
            "text/plain": [
              "{'boxes': [<matplotlib.lines.Line2D at 0x7f3b6e84c0f0>],\n",
              " 'caps': [<matplotlib.lines.Line2D at 0x7f3b6e7aee80>,\n",
              "  <matplotlib.lines.Line2D at 0x7f3b6e7ae908>],\n",
              " 'fliers': [<matplotlib.lines.Line2D at 0x7f3b6e7ae208>],\n",
              " 'means': [],\n",
              " 'medians': [<matplotlib.lines.Line2D at 0x7f3b6e7ae860>],\n",
              " 'whiskers': [<matplotlib.lines.Line2D at 0x7f3b6e84c7f0>,\n",
              "  <matplotlib.lines.Line2D at 0x7f3b6e84c8d0>]}"
            ]
          },
          "metadata": {
            "tags": []
          },
          "execution_count": 51
        },
        {
          "output_type": "display_data",
          "data": {
            "image/png": "[encoded data removed]",
            "text/plain": [
              "<Figure size 432x504 with 1 Axes>"
            ]
          },
          "metadata": {
            "tags": [],
            "needs_background": "light"
          }
        }
      ]
    }
  ]
}