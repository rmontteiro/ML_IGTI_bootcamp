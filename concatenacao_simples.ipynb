{
  "nbformat": 4,
  "nbformat_minor": 0,
  "metadata": {
    "colab": {
      "name": "concatenacao_simples.ipynb",
      "provenance": [],
      "authorship_tag": "ABX9TyOJu5ANyMz6DzT3h6RTx4ZD",
      "include_colab_link": true
    },
    "kernelspec": {
      "name": "python3",
      "display_name": "Python 3"
    },
    "language_info": {
      "name": "python"
    }
  },
  "cells": [
    {
      "cell_type": "markdown",
      "metadata": {
        "id": "view-in-github",
        "colab_type": "text"
      },
      "source": [
        "<a href=\"https://colab.research.google.com/github/rmontteiro/ML_IGTI_bootcamp/blob/master/concatenacao_simples.ipynb\" target=\"_parent\"><img src=\"https://colab.research.google.com/assets/colab-badge.svg\" alt=\"Open In Colab\"/></a>"
      ]
    },
    {
      "cell_type": "code",
      "metadata": {
        "id": "7AFJZTCXntPC"
      },
      "source": [
        "import pandas as pd"
      ],
      "execution_count": 6,
      "outputs": []
    },
    {
      "cell_type": "code",
      "metadata": {
        "id": "Kr7k9RaVnq9T"
      },
      "source": [
        "df1 = pd.DataFrame({\"A\": [\"A0\", \"A1\", \"A2\", \"A3\"],\"B\": [\"B0\", \"B1\", \"B2\", \"B3\"],\"C\": [\"C0\", \"C1\", \"C2\", \"C3\"],\"D\": [\"D0\", \"D1\", \"D2\", \"D3\"],}, index=[0, 1, 2, 3],)"
      ],
      "execution_count": 7,
      "outputs": []
    },
    {
      "cell_type": "code",
      "metadata": {
        "colab": {
          "base_uri": "https://localhost:8080/"
        },
        "id": "l0sjafgso9EO",
        "outputId": "19080640-4b62-4ba4-fbda-8ae2d8711ce8"
      },
      "source": [
        "df1.head"
      ],
      "execution_count": 12,
      "outputs": [
        {
          "output_type": "execute_result",
          "data": {
            "text/plain": [
              "<bound method NDFrame.head of     A   B   C   D\n",
              "0  A0  B0  C0  D0\n",
              "1  A1  B1  C1  D1\n",
              "2  A2  B2  C2  D2\n",
              "3  A3  B3  C3  D3>"
            ]
          },
          "metadata": {
            "tags": []
          },
          "execution_count": 12
        }
      ]
    },
    {
      "cell_type": "code",
      "metadata": {
        "id": "yAcf0gS5n0Rd"
      },
      "source": [
        "df2 = pd.DataFrame({\"A\": [\"A4\", \"A5\", \"A6\", \"A7\"],\"B\": [\"B4\", \"B5\", \"B6\", \"B7\"],\"C\": [\"C4\", \"C5\", \"C6\", \"C7\"],\"D\": [\"D4\", \"D5\", \"D6\", \"D7\"],},index=[4, 5, 6, 7],)"
      ],
      "execution_count": 8,
      "outputs": []
    },
    {
      "cell_type": "code",
      "metadata": {
        "colab": {
          "base_uri": "https://localhost:8080/"
        },
        "id": "NEL86ioWpAjY",
        "outputId": "feed3ddb-15d2-4297-f3fd-6df513c1a6d3"
      },
      "source": [
        "df2.head"
      ],
      "execution_count": 13,
      "outputs": [
        {
          "output_type": "execute_result",
          "data": {
            "text/plain": [
              "<bound method NDFrame.head of     A   B   C   D\n",
              "4  A4  B4  C4  D4\n",
              "5  A5  B5  C5  D5\n",
              "6  A6  B6  C6  D6\n",
              "7  A7  B7  C7  D7>"
            ]
          },
          "metadata": {
            "tags": []
          },
          "execution_count": 13
        }
      ]
    },
    {
      "cell_type": "code",
      "metadata": {
        "id": "10124Jc8opkg"
      },
      "source": [
        " df3 = pd.DataFrame({\"A\": [\"A8\", \"A9\", \"A10\", \"A11\"],\"B\": [\"B8\", \"B9\", \"B10\", \"B11\"],\"C\": [\"C8\", \"C9\", \"C10\", \"C11\"],\"D\": [\"D8\", \"D9\", \"D10\", \"D11\"],},index=[8, 9, 10, 11],)"
      ],
      "execution_count": 9,
      "outputs": []
    },
    {
      "cell_type": "code",
      "metadata": {
        "colab": {
          "base_uri": "https://localhost:8080/"
        },
        "id": "Iub3SX4-pC8l",
        "outputId": "9c61c9c1-d715-49dc-d333-0f19ec6b68ba"
      },
      "source": [
        "df3.head"
      ],
      "execution_count": 14,
      "outputs": [
        {
          "output_type": "execute_result",
          "data": {
            "text/plain": [
              "<bound method NDFrame.head of       A    B    C    D\n",
              "8    A8   B8   C8   D8\n",
              "9    A9   B9   C9   D9\n",
              "10  A10  B10  C10  D10\n",
              "11  A11  B11  C11  D11>"
            ]
          },
          "metadata": {
            "tags": []
          },
          "execution_count": 14
        }
      ]
    },
    {
      "cell_type": "code",
      "metadata": {
        "id": "KJH2Hna0o3Ra"
      },
      "source": [
        "frames = [df1, df2, df3]"
      ],
      "execution_count": 10,
      "outputs": []
    },
    {
      "cell_type": "code",
      "metadata": {
        "id": "PnTTbvFNo63u"
      },
      "source": [
        "result = pd.concat(frames)"
      ],
      "execution_count": 11,
      "outputs": []
    },
    {
      "cell_type": "code",
      "metadata": {
        "colab": {
          "base_uri": "https://localhost:8080/"
        },
        "id": "edeqQKxlpFf2",
        "outputId": "719acf4a-b204-425a-cf65-fd284e096bd3"
      },
      "source": [
        "result.head"
      ],
      "execution_count": 15,
      "outputs": [
        {
          "output_type": "execute_result",
          "data": {
            "text/plain": [
              "<bound method NDFrame.head of       A    B    C    D\n",
              "0    A0   B0   C0   D0\n",
              "1    A1   B1   C1   D1\n",
              "2    A2   B2   C2   D2\n",
              "3    A3   B3   C3   D3\n",
              "4    A4   B4   C4   D4\n",
              "5    A5   B5   C5   D5\n",
              "6    A6   B6   C6   D6\n",
              "7    A7   B7   C7   D7\n",
              "8    A8   B8   C8   D8\n",
              "9    A9   B9   C9   D9\n",
              "10  A10  B10  C10  D10\n",
              "11  A11  B11  C11  D11>"
            ]
          },
          "metadata": {
            "tags": []
          },
          "execution_count": 15
        }
      ]
    }
  ]
}