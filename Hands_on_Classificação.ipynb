{
  "nbformat": 4,
  "nbformat_minor": 0,
  "metadata": {
    "kernelspec": {
      "display_name": "Python 3",
      "language": "python",
      "name": "python3"
    },
    "language_info": {
      "codemirror_mode": {
        "name": "ipython",
        "version": 3
      },
      "file_extension": ".py",
      "mimetype": "text/x-python",
      "name": "python",
      "nbconvert_exporter": "python",
      "pygments_lexer": "ipython3",
      "version": "3.6.4"
    },
    "colab": {
      "name": "Hands_on_Classificação.ipynb",
      "provenance": [],
      "collapsed_sections": [],
      "include_colab_link": true
    }
  },
  "cells": [
    {
      "cell_type": "markdown",
      "metadata": {
        "id": "view-in-github",
        "colab_type": "text"
      },
      "source": [
        "<a href=\"https://colab.research.google.com/github/rmontteiro/Machine-Learning/blob/master/Hands_on_Classifica%C3%A7%C3%A3o.ipynb\" target=\"_parent\"><img src=\"https://colab.research.google.com/assets/colab-badge.svg\" alt=\"Open In Colab\"/></a>"
      ]
    },
    {
      "cell_type": "markdown",
      "metadata": {
        "id": "wIl-k3lr8Qiv"
      },
      "source": [
        "# **Hands-on Classificação**\n",
        "\n",
        "---\n",
        "\n",
        "Classificação com sklearn "
      ]
    },
    {
      "cell_type": "markdown",
      "metadata": {
        "id": "SN6weYKF8N8v"
      },
      "source": [
        "Vamos começar a analisar algoritmos de classificação de acordo com as métricas vistas nas aula anteriores. \n",
        "\n",
        "Para isso, usaremos 3 classificadores diferentes. Todas as implementações são provenivientes do sklearn. São eles: \n",
        "\n",
        "\n",
        "*   <a href = https://scikit-learn.org/stable/modules/neighbors.html#nearest-neighbors-classification> KNN </a>\n",
        "*   <a href = https://scikit-learn.org/stable/modules/svm.html> Support Vector Machine (SVM)</a>\n",
        "*   <a href = https://scikit-learn.org/stable/modules/generated/sklearn.ensemble.RandomForestClassifier.html> Random Forest </a>\n",
        "\n",
        "Esses classificadores são amplamente utilizados no dia-a-dia quando se trata de uma tarefa de classificação. Mais informações sobre esses modelos podem ser encontradas nos links para a documentação do sklearn. \n",
        "\n",
        "\n",
        "Vamos utilizar a base de dados **diabetes.csv** </a> que pode ser encontrada no OpenML em: https://www.openml.org/d/37. Essa base descreve o problema de predizer o resultado positivo ou negativo de um teste para diabetes aplicado em um conjunto específico de pacientes na Índia. \n"
      ]
    },
    {
      "cell_type": "markdown",
      "metadata": {
        "id": "_5wwHwTQ8N8v"
      },
      "source": [
        "### *Importando* bibliotecas\n"
      ]
    },
    {
      "cell_type": "code",
      "metadata": {
        "id": "i_5G2bRaHU8i"
      },
      "source": [
        "import pandas as pd #biblioteca para manipulação de dados\n",
        "import numpy as np #biblioteca para utilizacao de vetores e matrizes\n",
        "import matplotlib.pyplot as plt #bibloteca para plotar graficos"
      ],
      "execution_count": 1,
      "outputs": []
    },
    {
      "cell_type": "code",
      "metadata": {
        "id": "ufc7rjN0Hbb7",
        "outputId": "da8e32f9-4a4e-42a3-fa11-89f65cc0cc54",
        "colab": {
          "resources": {
            "http://localhost:8080/nbextensions/google.colab/files.js": {
              "data": "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",
              "ok": true,
              "headers": [
                [
                  "content-type",
                  "application/javascript"
                ]
              ],
              "status": 200,
              "status_text": ""
            }
          },
          "base_uri": "https://localhost:8080/",
          "height": 72
        }
      },
      "source": [
        "#importando o nosso dataset\n",
        "from google.colab import files\n",
        "uploaded = files.upload()"
      ],
      "execution_count": 2,
      "outputs": [
        {
          "output_type": "display_data",
          "data": {
            "text/html": [
              "\n",
              "     <input type=\"file\" id=\"files-100bbf95-8e70-4408-9a85-67b1d543a33e\" name=\"files[]\" multiple disabled\n",
              "        style=\"border:none\" />\n",
              "     <output id=\"result-100bbf95-8e70-4408-9a85-67b1d543a33e\">\n",
              "      Upload widget is only available when the cell has been executed in the\n",
              "      current browser session. Please rerun this cell to enable.\n",
              "      </output>\n",
              "      <script src=\"/nbextensions/google.colab/files.js\"></script> "
            ],
            "text/plain": [
              "<IPython.core.display.HTML object>"
            ]
          },
          "metadata": {
            "tags": []
          }
        },
        {
          "output_type": "stream",
          "text": [
            "Saving diabetes.csv to diabetes.csv\n"
          ],
          "name": "stdout"
        }
      ]
    },
    {
      "cell_type": "markdown",
      "metadata": {
        "id": "L9aBPfZwHjwK"
      },
      "source": [
        "### Carregamento dos dados"
      ]
    },
    {
      "cell_type": "code",
      "metadata": {
        "id": "FTLPdcSaHsIo"
      },
      "source": [
        "#lendo o csv que contem a base de dados e armazanando em um df\n",
        "df = pd.read_csv('diabetes.csv')"
      ],
      "execution_count": 4,
      "outputs": []
    },
    {
      "cell_type": "code",
      "metadata": {
        "id": "Yw9wSFNd8N8w",
        "outputId": "4c937703-4624-42ed-e2ea-f43fc0da839f",
        "colab": {
          "base_uri": "https://localhost:8080/",
          "height": 204
        }
      },
      "source": [
        "#imprimindo as 5 primeiras linhas do df para confirmação\n",
        "df.head(5)"
      ],
      "execution_count": 5,
      "outputs": [
        {
          "output_type": "execute_result",
          "data": {
            "text/html": [
              "<div>\n",
              "<style scoped>\n",
              "    .dataframe tbody tr th:only-of-type {\n",
              "        vertical-align: middle;\n",
              "    }\n",
              "\n",
              "    .dataframe tbody tr th {\n",
              "        vertical-align: top;\n",
              "    }\n",
              "\n",
              "    .dataframe thead th {\n",
              "        text-align: right;\n",
              "    }\n",
              "</style>\n",
              "<table border=\"1\" class=\"dataframe\">\n",
              "  <thead>\n",
              "    <tr style=\"text-align: right;\">\n",
              "      <th></th>\n",
              "      <th>preg</th>\n",
              "      <th>plas</th>\n",
              "      <th>pres</th>\n",
              "      <th>skin</th>\n",
              "      <th>insu</th>\n",
              "      <th>mass</th>\n",
              "      <th>pedi</th>\n",
              "      <th>age</th>\n",
              "      <th>class</th>\n",
              "    </tr>\n",
              "  </thead>\n",
              "  <tbody>\n",
              "    <tr>\n",
              "      <th>0</th>\n",
              "      <td>6</td>\n",
              "      <td>148</td>\n",
              "      <td>72</td>\n",
              "      <td>35</td>\n",
              "      <td>0</td>\n",
              "      <td>33.6</td>\n",
              "      <td>0.627</td>\n",
              "      <td>50</td>\n",
              "      <td>tested_positive</td>\n",
              "    </tr>\n",
              "    <tr>\n",
              "      <th>1</th>\n",
              "      <td>1</td>\n",
              "      <td>85</td>\n",
              "      <td>66</td>\n",
              "      <td>29</td>\n",
              "      <td>0</td>\n",
              "      <td>26.6</td>\n",
              "      <td>0.351</td>\n",
              "      <td>31</td>\n",
              "      <td>tested_negative</td>\n",
              "    </tr>\n",
              "    <tr>\n",
              "      <th>2</th>\n",
              "      <td>8</td>\n",
              "      <td>183</td>\n",
              "      <td>64</td>\n",
              "      <td>0</td>\n",
              "      <td>0</td>\n",
              "      <td>23.3</td>\n",
              "      <td>0.672</td>\n",
              "      <td>32</td>\n",
              "      <td>tested_positive</td>\n",
              "    </tr>\n",
              "    <tr>\n",
              "      <th>3</th>\n",
              "      <td>1</td>\n",
              "      <td>89</td>\n",
              "      <td>66</td>\n",
              "      <td>23</td>\n",
              "      <td>94</td>\n",
              "      <td>28.1</td>\n",
              "      <td>0.167</td>\n",
              "      <td>21</td>\n",
              "      <td>tested_negative</td>\n",
              "    </tr>\n",
              "    <tr>\n",
              "      <th>4</th>\n",
              "      <td>0</td>\n",
              "      <td>137</td>\n",
              "      <td>40</td>\n",
              "      <td>35</td>\n",
              "      <td>168</td>\n",
              "      <td>43.1</td>\n",
              "      <td>2.288</td>\n",
              "      <td>33</td>\n",
              "      <td>tested_positive</td>\n",
              "    </tr>\n",
              "  </tbody>\n",
              "</table>\n",
              "</div>"
            ],
            "text/plain": [
              "   preg  plas  pres  skin  insu  mass   pedi  age            class\n",
              "0     6   148    72    35     0  33.6  0.627   50  tested_positive\n",
              "1     1    85    66    29     0  26.6  0.351   31  tested_negative\n",
              "2     8   183    64     0     0  23.3  0.672   32  tested_positive\n",
              "3     1    89    66    23    94  28.1  0.167   21  tested_negative\n",
              "4     0   137    40    35   168  43.1  2.288   33  tested_positive"
            ]
          },
          "metadata": {
            "tags": []
          },
          "execution_count": 5
        }
      ]
    },
    {
      "cell_type": "markdown",
      "metadata": {
        "id": "cFaZnXnAIonA"
      },
      "source": [
        "*   preg: number of times pregnant\n",
        "*   plas: Plasma glucose concentration a 2 hours in an oral glucose tolerance test\n",
        "*   pres: Diastolic blood pressure (mm Hg)\n",
        "*   skin: Triceps skin fold thickness (mm)\n",
        "*   insu: 2-Hour serum insulin (mu U/ml)\n",
        "*   mass: Body mass index (weight in kg/(height in m)^2)\n",
        "*   pedi: Diabetes pedigree function\n",
        "*   age: Age (years)\n",
        "*   class: Class variable (tested_positive or tested_negative)"
      ]
    },
    {
      "cell_type": "code",
      "metadata": {
        "id": "d_lxVAD-8N86",
        "outputId": "284e6354-4b3c-410e-a884-578ff57ad049",
        "colab": {
          "base_uri": "https://localhost:8080/",
          "height": 34
        }
      },
      "source": [
        "# Verificando o numero de amostras (linhas) e features (colunas) do dataset. \n",
        "print('Amostras e Features:', df.shape)"
      ],
      "execution_count": 6,
      "outputs": [
        {
          "output_type": "stream",
          "text": [
            "Amostras e Features: (768, 9)\n"
          ],
          "name": "stdout"
        }
      ]
    },
    {
      "cell_type": "code",
      "metadata": {
        "id": "MILEATwd8N9A",
        "outputId": "bb69e336-b137-4cfc-b3a6-81fa08ba2d88",
        "colab": {
          "base_uri": "https://localhost:8080/",
          "height": 34
        }
      },
      "source": [
        "# Verificando quais são os tipos das features\n",
        "df.columns"
      ],
      "execution_count": 7,
      "outputs": [
        {
          "output_type": "execute_result",
          "data": {
            "text/plain": [
              "Index(['preg', 'plas', 'pres', 'skin', 'insu', 'mass', 'pedi', 'age', 'class'], dtype='object')"
            ]
          },
          "metadata": {
            "tags": []
          },
          "execution_count": 7
        }
      ]
    },
    {
      "cell_type": "markdown",
      "metadata": {
        "id": "b2aq9YGyJ_YN"
      },
      "source": [
        "### Pré processamento"
      ]
    },
    {
      "cell_type": "markdown",
      "metadata": {
        "id": "WD1KwfP08N9E"
      },
      "source": [
        "Nesse problema, o único atributo categórico é a classe. Alguns modelos podem ter dificuldade de lidar com esse atributo. Nesse caso, precisamos transformar os valores de \"tested_negative\" e \"tested_positivo\" para 0 e 1.\n",
        "\n",
        "Para isso, vamos fazer uma função bem simples. "
      ]
    },
    {
      "cell_type": "code",
      "metadata": {
        "id": "RbSaDmfQqdfj",
        "outputId": "f240016c-fe13-41de-ab83-769ad0554676",
        "colab": {
          "base_uri": "https://localhost:8080/",
          "height": 204
        }
      },
      "source": [
        "#criando um dicionario de dados para o mapeamento\n",
        "name_to_class = {\n",
        "    'tested_negative': 0,\n",
        "    'tested_positive': 1\n",
        "}\n",
        "\n",
        "#substituindo os valores categóricos pelo mapeamento\n",
        "df['class'] = df['class'].map(name_to_class)\n",
        "\n",
        "#check\n",
        "df.head(5)"
      ],
      "execution_count": 8,
      "outputs": [
        {
          "output_type": "execute_result",
          "data": {
            "text/html": [
              "<div>\n",
              "<style scoped>\n",
              "    .dataframe tbody tr th:only-of-type {\n",
              "        vertical-align: middle;\n",
              "    }\n",
              "\n",
              "    .dataframe tbody tr th {\n",
              "        vertical-align: top;\n",
              "    }\n",
              "\n",
              "    .dataframe thead th {\n",
              "        text-align: right;\n",
              "    }\n",
              "</style>\n",
              "<table border=\"1\" class=\"dataframe\">\n",
              "  <thead>\n",
              "    <tr style=\"text-align: right;\">\n",
              "      <th></th>\n",
              "      <th>preg</th>\n",
              "      <th>plas</th>\n",
              "      <th>pres</th>\n",
              "      <th>skin</th>\n",
              "      <th>insu</th>\n",
              "      <th>mass</th>\n",
              "      <th>pedi</th>\n",
              "      <th>age</th>\n",
              "      <th>class</th>\n",
              "    </tr>\n",
              "  </thead>\n",
              "  <tbody>\n",
              "    <tr>\n",
              "      <th>0</th>\n",
              "      <td>6</td>\n",
              "      <td>148</td>\n",
              "      <td>72</td>\n",
              "      <td>35</td>\n",
              "      <td>0</td>\n",
              "      <td>33.6</td>\n",
              "      <td>0.627</td>\n",
              "      <td>50</td>\n",
              "      <td>1</td>\n",
              "    </tr>\n",
              "    <tr>\n",
              "      <th>1</th>\n",
              "      <td>1</td>\n",
              "      <td>85</td>\n",
              "      <td>66</td>\n",
              "      <td>29</td>\n",
              "      <td>0</td>\n",
              "      <td>26.6</td>\n",
              "      <td>0.351</td>\n",
              "      <td>31</td>\n",
              "      <td>0</td>\n",
              "    </tr>\n",
              "    <tr>\n",
              "      <th>2</th>\n",
              "      <td>8</td>\n",
              "      <td>183</td>\n",
              "      <td>64</td>\n",
              "      <td>0</td>\n",
              "      <td>0</td>\n",
              "      <td>23.3</td>\n",
              "      <td>0.672</td>\n",
              "      <td>32</td>\n",
              "      <td>1</td>\n",
              "    </tr>\n",
              "    <tr>\n",
              "      <th>3</th>\n",
              "      <td>1</td>\n",
              "      <td>89</td>\n",
              "      <td>66</td>\n",
              "      <td>23</td>\n",
              "      <td>94</td>\n",
              "      <td>28.1</td>\n",
              "      <td>0.167</td>\n",
              "      <td>21</td>\n",
              "      <td>0</td>\n",
              "    </tr>\n",
              "    <tr>\n",
              "      <th>4</th>\n",
              "      <td>0</td>\n",
              "      <td>137</td>\n",
              "      <td>40</td>\n",
              "      <td>35</td>\n",
              "      <td>168</td>\n",
              "      <td>43.1</td>\n",
              "      <td>2.288</td>\n",
              "      <td>33</td>\n",
              "      <td>1</td>\n",
              "    </tr>\n",
              "  </tbody>\n",
              "</table>\n",
              "</div>"
            ],
            "text/plain": [
              "   preg  plas  pres  skin  insu  mass   pedi  age  class\n",
              "0     6   148    72    35     0  33.6  0.627   50      1\n",
              "1     1    85    66    29     0  26.6  0.351   31      0\n",
              "2     8   183    64     0     0  23.3  0.672   32      1\n",
              "3     1    89    66    23    94  28.1  0.167   21      0\n",
              "4     0   137    40    35   168  43.1  2.288   33      1"
            ]
          },
          "metadata": {
            "tags": []
          },
          "execution_count": 8
        }
      ]
    },
    {
      "cell_type": "markdown",
      "metadata": {
        "id": "_J94oUYW8N9Q"
      },
      "source": [
        "Uma outra etapa importante do pré-processamento consiste na avaliação de dados faltantes. \n",
        "\n"
      ]
    },
    {
      "cell_type": "code",
      "metadata": {
        "id": "fOQWr4kR8N9R",
        "outputId": "5cb0fa2b-a473-4504-b520-6d6f342bd7ab",
        "colab": {
          "base_uri": "https://localhost:8080/",
          "height": 297
        }
      },
      "source": [
        "# Analisando o resumo da base\n",
        "df.describe()"
      ],
      "execution_count": 9,
      "outputs": [
        {
          "output_type": "execute_result",
          "data": {
            "text/html": [
              "<div>\n",
              "<style scoped>\n",
              "    .dataframe tbody tr th:only-of-type {\n",
              "        vertical-align: middle;\n",
              "    }\n",
              "\n",
              "    .dataframe tbody tr th {\n",
              "        vertical-align: top;\n",
              "    }\n",
              "\n",
              "    .dataframe thead th {\n",
              "        text-align: right;\n",
              "    }\n",
              "</style>\n",
              "<table border=\"1\" class=\"dataframe\">\n",
              "  <thead>\n",
              "    <tr style=\"text-align: right;\">\n",
              "      <th></th>\n",
              "      <th>preg</th>\n",
              "      <th>plas</th>\n",
              "      <th>pres</th>\n",
              "      <th>skin</th>\n",
              "      <th>insu</th>\n",
              "      <th>mass</th>\n",
              "      <th>pedi</th>\n",
              "      <th>age</th>\n",
              "      <th>class</th>\n",
              "    </tr>\n",
              "  </thead>\n",
              "  <tbody>\n",
              "    <tr>\n",
              "      <th>count</th>\n",
              "      <td>768.000000</td>\n",
              "      <td>768.000000</td>\n",
              "      <td>768.000000</td>\n",
              "      <td>768.000000</td>\n",
              "      <td>768.000000</td>\n",
              "      <td>768.000000</td>\n",
              "      <td>768.000000</td>\n",
              "      <td>768.000000</td>\n",
              "      <td>768.000000</td>\n",
              "    </tr>\n",
              "    <tr>\n",
              "      <th>mean</th>\n",
              "      <td>3.845052</td>\n",
              "      <td>120.894531</td>\n",
              "      <td>69.105469</td>\n",
              "      <td>20.536458</td>\n",
              "      <td>79.799479</td>\n",
              "      <td>31.992578</td>\n",
              "      <td>0.471876</td>\n",
              "      <td>33.240885</td>\n",
              "      <td>0.348958</td>\n",
              "    </tr>\n",
              "    <tr>\n",
              "      <th>std</th>\n",
              "      <td>3.369578</td>\n",
              "      <td>31.972618</td>\n",
              "      <td>19.355807</td>\n",
              "      <td>15.952218</td>\n",
              "      <td>115.244002</td>\n",
              "      <td>7.884160</td>\n",
              "      <td>0.331329</td>\n",
              "      <td>11.760232</td>\n",
              "      <td>0.476951</td>\n",
              "    </tr>\n",
              "    <tr>\n",
              "      <th>min</th>\n",
              "      <td>0.000000</td>\n",
              "      <td>0.000000</td>\n",
              "      <td>0.000000</td>\n",
              "      <td>0.000000</td>\n",
              "      <td>0.000000</td>\n",
              "      <td>0.000000</td>\n",
              "      <td>0.078000</td>\n",
              "      <td>21.000000</td>\n",
              "      <td>0.000000</td>\n",
              "    </tr>\n",
              "    <tr>\n",
              "      <th>25%</th>\n",
              "      <td>1.000000</td>\n",
              "      <td>99.000000</td>\n",
              "      <td>62.000000</td>\n",
              "      <td>0.000000</td>\n",
              "      <td>0.000000</td>\n",
              "      <td>27.300000</td>\n",
              "      <td>0.243750</td>\n",
              "      <td>24.000000</td>\n",
              "      <td>0.000000</td>\n",
              "    </tr>\n",
              "    <tr>\n",
              "      <th>50%</th>\n",
              "      <td>3.000000</td>\n",
              "      <td>117.000000</td>\n",
              "      <td>72.000000</td>\n",
              "      <td>23.000000</td>\n",
              "      <td>30.500000</td>\n",
              "      <td>32.000000</td>\n",
              "      <td>0.372500</td>\n",
              "      <td>29.000000</td>\n",
              "      <td>0.000000</td>\n",
              "    </tr>\n",
              "    <tr>\n",
              "      <th>75%</th>\n",
              "      <td>6.000000</td>\n",
              "      <td>140.250000</td>\n",
              "      <td>80.000000</td>\n",
              "      <td>32.000000</td>\n",
              "      <td>127.250000</td>\n",
              "      <td>36.600000</td>\n",
              "      <td>0.626250</td>\n",
              "      <td>41.000000</td>\n",
              "      <td>1.000000</td>\n",
              "    </tr>\n",
              "    <tr>\n",
              "      <th>max</th>\n",
              "      <td>17.000000</td>\n",
              "      <td>199.000000</td>\n",
              "      <td>122.000000</td>\n",
              "      <td>99.000000</td>\n",
              "      <td>846.000000</td>\n",
              "      <td>67.100000</td>\n",
              "      <td>2.420000</td>\n",
              "      <td>81.000000</td>\n",
              "      <td>1.000000</td>\n",
              "    </tr>\n",
              "  </tbody>\n",
              "</table>\n",
              "</div>"
            ],
            "text/plain": [
              "             preg        plas        pres  ...        pedi         age       class\n",
              "count  768.000000  768.000000  768.000000  ...  768.000000  768.000000  768.000000\n",
              "mean     3.845052  120.894531   69.105469  ...    0.471876   33.240885    0.348958\n",
              "std      3.369578   31.972618   19.355807  ...    0.331329   11.760232    0.476951\n",
              "min      0.000000    0.000000    0.000000  ...    0.078000   21.000000    0.000000\n",
              "25%      1.000000   99.000000   62.000000  ...    0.243750   24.000000    0.000000\n",
              "50%      3.000000  117.000000   72.000000  ...    0.372500   29.000000    0.000000\n",
              "75%      6.000000  140.250000   80.000000  ...    0.626250   41.000000    1.000000\n",
              "max     17.000000  199.000000  122.000000  ...    2.420000   81.000000    1.000000\n",
              "\n",
              "[8 rows x 9 columns]"
            ]
          },
          "metadata": {
            "tags": []
          },
          "execution_count": 9
        }
      ]
    },
    {
      "cell_type": "markdown",
      "metadata": {
        "id": "-mH3u8WT8N9f"
      },
      "source": [
        "Os modelos implementados no sklearn recebem como entrada para a modelagam um ou mais arrays. Dessa forma, precisamos modificar o df original para que seja possível a modelagem correta. \n",
        "\n",
        "Para isso, vamos separar o label das amotras, armazenar o nome das featues já que os arrays não fazem isso e depois retirar a coluna de labels do df original. Em seguida, vamos converter o df para array usando o numpy!"
      ]
    },
    {
      "cell_type": "code",
      "metadata": {
        "id": "WZ3jLCuEOfbJ"
      },
      "source": [
        "# armazenando os labels em um array\n",
        "labels = np.array(df['class'])\n",
        "\n",
        "# salvando a ordem das features\n",
        "feature_list = list(df.columns)"
      ],
      "execution_count": 10,
      "outputs": []
    },
    {
      "cell_type": "code",
      "metadata": {
        "id": "Q5wIxGj68N9g",
        "outputId": "d92702af-fc6c-4476-9291-ffc093ec3a3c",
        "colab": {
          "base_uri": "https://localhost:8080/",
          "height": 34
        }
      },
      "source": [
        "# removendo a coluna de labels do df original\n",
        "df = df.drop('class', axis = 1)\n",
        "\n",
        "# check\n",
        "df.columns"
      ],
      "execution_count": 11,
      "outputs": [
        {
          "output_type": "execute_result",
          "data": {
            "text/plain": [
              "Index(['preg', 'plas', 'pres', 'skin', 'insu', 'mass', 'pedi', 'age'], dtype='object')"
            ]
          },
          "metadata": {
            "tags": []
          },
          "execution_count": 11
        }
      ]
    },
    {
      "cell_type": "code",
      "metadata": {
        "id": "H24By9Vf8N9k"
      },
      "source": [
        "# convertendo df para array\n",
        "data = np.array(df)"
      ],
      "execution_count": 12,
      "outputs": []
    },
    {
      "cell_type": "markdown",
      "metadata": {
        "id": "WY6_Mcme8N9o"
      },
      "source": [
        "Agora estamos quase prontos para a modelagem em si!\n",
        "\n",
        "Precisamos apenas separar uma parte dos nossos dados para que seja possível avaliar os modelos que vamos treinar. O sklearn tem uma função para isso: <a href = http://scikit-learn.org/stable/modules/generated/sklearn.model_selection.train_test_split.html> train_test_split<a>."
      ]
    },
    {
      "cell_type": "code",
      "metadata": {
        "id": "Ews_1IMu8N9p"
      },
      "source": [
        "# importar train_test_split do scikitlearn \n",
        "from sklearn.model_selection import train_test_split\n",
        "\n",
        "# aplicando a funcao train_test_split para separar os conjuntos de treino e \n",
        "# teste segundo uma porcentagem de separação definida. \n",
        "train_data, test_data, train_labels, test_labels = train_test_split(data, labels, test_size = 0.25, random_state = 42)"
      ],
      "execution_count": 13,
      "outputs": []
    },
    {
      "cell_type": "markdown",
      "metadata": {
        "id": "FYsqiOG18N9v"
      },
      "source": [
        "### Baseline: Comparando com um modelo aleatorio!"
      ]
    },
    {
      "cell_type": "markdown",
      "metadata": {
        "id": "JpkQtbyW8N9w"
      },
      "source": [
        "Como falamos durante as aulas teóricas, podemos criar uma base de comparação para os modelos que queremos avaliar. \n",
        "\n",
        "No caso da classificação, o baseline pode ser construído a partir de um modelo aleatório. Nesse caso, são atribuídos 0s e 1s de forma aleatória para todas as amostras de teste. Podemos pensar que o modelo baseline é apenas um chute aleatório sobre o resultado do teste positivo ou negativo. "
      ]
    },
    {
      "cell_type": "code",
      "metadata": {
        "id": "orOp85nl5QDw",
        "outputId": "87e5bbec-d6ec-499f-ecac-111f74e93836",
        "colab": {
          "base_uri": "https://localhost:8080/",
          "height": 119
        }
      },
      "source": [
        "# criando baseline\n",
        "baseline_preds = np.random.choice([0,1], size = len(test_labels))\n",
        "\n",
        "print(baseline_preds)"
      ],
      "execution_count": 14,
      "outputs": [
        {
          "output_type": "stream",
          "text": [
            "[1 0 0 1 0 1 1 0 1 0 0 0 1 0 1 1 1 1 1 1 0 1 0 1 1 1 1 0 0 1 0 1 1 1 0 1 0\n",
            " 0 1 0 0 1 1 0 1 1 0 1 1 1 1 1 0 1 0 0 0 1 0 0 1 1 0 0 1 0 1 1 1 1 0 0 1 0\n",
            " 1 1 0 1 0 0 0 0 0 1 1 0 0 0 0 0 1 1 1 1 1 1 1 0 1 0 1 0 0 1 0 1 1 1 0 1 1\n",
            " 0 1 1 0 1 0 0 1 1 1 0 1 0 1 0 0 1 1 0 1 0 1 0 0 0 1 1 1 0 0 0 1 0 1 0 1 1\n",
            " 1 0 0 1 0 1 0 1 0 0 0 1 0 1 1 1 0 0 1 1 0 1 0 0 0 1 1 1 1 1 0 0 1 0 0 1 1\n",
            " 0 1 1 1 1 0 0]\n"
          ],
          "name": "stdout"
        }
      ]
    },
    {
      "cell_type": "markdown",
      "metadata": {
        "id": "WeZ5topCSLxn"
      },
      "source": [
        "O sklearn tem várias métricas implementadas! :D\n",
        "\n",
        "Vamos testar essas metricas? "
      ]
    },
    {
      "cell_type": "code",
      "metadata": {
        "id": "6Aobv8rd8N9x",
        "outputId": "f2d06b0b-726f-41fc-937a-54ee46e81a78",
        "colab": {
          "base_uri": "https://localhost:8080/",
          "height": 374
        }
      },
      "source": [
        "# importar biblioteca para calculo de métricas\n",
        "from sklearn import metrics  \n",
        "\n",
        "# calculando medidas de erro\n",
        "# essas medidas são calculadas a partir da comparação com o valor real do nosso conjunto de teste\n",
        "print('Matriz de Confusão\\n', metrics.confusion_matrix(test_labels, baseline_preds)) \n",
        "print('\\nAcurácia\\n', metrics.accuracy_score(test_labels, baseline_preds)) \n",
        "print('\\nAcurácia Balanceada por classe\\n', metrics.balanced_accuracy_score(test_labels, baseline_preds)) \n",
        "print('\\nPrecision\\n', metrics.precision_score(test_labels, baseline_preds)) \n",
        "print('\\nRecall\\n', metrics.recall_score(test_labels, baseline_preds)) \n",
        "print('\\nF1\\n', metrics.f1_score(test_labels, baseline_preds)) \n",
        "\n",
        "print('\\nAUCROC\\n', metrics.roc_auc_score(test_labels, baseline_preds))"
      ],
      "execution_count": 15,
      "outputs": [
        {
          "output_type": "stream",
          "text": [
            "Matriz de Confusão\n",
            " [[53 70]\n",
            " [35 34]]\n",
            "\n",
            "Acurácia\n",
            " 0.453125\n",
            "\n",
            "Acurácia Balanceada por classe\n",
            " 0.4618239660657476\n",
            "\n",
            "Precision\n",
            " 0.3269230769230769\n",
            "\n",
            "Recall\n",
            " 0.4927536231884058\n",
            "\n",
            "F1\n",
            " 0.3930635838150289\n",
            "\n",
            "AUCROC\n",
            " 0.4618239660657476\n"
          ],
          "name": "stdout"
        }
      ]
    },
    {
      "cell_type": "markdown",
      "metadata": {
        "id": "AAwsSBcdVoku"
      },
      "source": [
        "O sklearn oferece uma função que nos dá um resumo das principais métricas de classificação. \n",
        "Podemos usar essa função no lugar de printar as métricas separadamente. \n",
        "\n",
        "Vamos testar?"
      ]
    },
    {
      "cell_type": "code",
      "metadata": {
        "id": "vKXqYbwLUkP_",
        "outputId": "ce75dd92-ef79-4c98-8141-a72c8de7c859",
        "colab": {
          "base_uri": "https://localhost:8080/",
          "height": 204
        }
      },
      "source": [
        "print('\\nClassification Report\\n', metrics.classification_report(test_labels, baseline_preds)) "
      ],
      "execution_count": 16,
      "outputs": [
        {
          "output_type": "stream",
          "text": [
            "\n",
            "Classification Report\n",
            "               precision    recall  f1-score   support\n",
            "\n",
            "           0       0.60      0.43      0.50       123\n",
            "           1       0.33      0.49      0.39        69\n",
            "\n",
            "    accuracy                           0.45       192\n",
            "   macro avg       0.46      0.46      0.45       192\n",
            "weighted avg       0.50      0.45      0.46       192\n",
            "\n"
          ],
          "name": "stdout"
        }
      ]
    },
    {
      "cell_type": "markdown",
      "metadata": {
        "id": "1NH3QMlf8N91"
      },
      "source": [
        "Agora que avaliamos nosso baseline e identificamos o erro desse modelo, podemos criar outros modelos de classificação e comparar os resultados encontrados!\n",
        "\n",
        "Dica: Se não conseguirmos um erro menor do que o baseline, talvez precisemos repensar nossa abordagem."
      ]
    },
    {
      "cell_type": "markdown",
      "metadata": {
        "id": "nstvyr-hdG1S"
      },
      "source": [
        "Vamos dar uma olhada como ficou o nosso baseline em relação as amostras de teste?\n",
        "\n",
        "*Não se preocupe em compreender o que foi realizado na célula a seguir, todas as manipulações foram realizadas no único intuito de gerar o gráfico.*"
      ]
    },
    {
      "cell_type": "code",
      "metadata": {
        "id": "eqGMncqndAaJ",
        "outputId": "0811dd65-b614-46a2-b8d9-666c4281f5cd",
        "colab": {
          "base_uri": "https://localhost:8080/",
          "height": 297
        }
      },
      "source": [
        "#criando labels e os valores armazenados nas barras\n",
        "labels = ['Tested_negatives', 'Tested_positives']\n",
        "count_test = [(test_labels == 0).sum(), (test_labels == 1).sum()]\n",
        "count_baseline = [(baseline_preds == 0).sum(), (baseline_preds == 1).sum()]\n",
        "\n",
        "#criando as barras\n",
        "x = np.arange(len(labels))  # the label locations\n",
        "width = 0.3  # the width of the bars\n",
        "\n",
        "#criancdo os plots\n",
        "fig, ax = plt.subplots()\n",
        "rects1 = ax.bar(x - width/2, count_test, width, label='Real Values')\n",
        "rects2 = ax.bar(x + width/2, count_baseline, width, label='Baseline Values')\n",
        "\n",
        "# Add some text for labels, title and custom x-axis tick labels, etc.\n",
        "ax.set_ylabel('Instances')\n",
        "ax.set_title('Real x Baseline')\n",
        "ax.set_xticks(x)\n",
        "ax.set_xticklabels(labels)\n",
        "ax.legend()\n",
        "\n",
        "\n",
        "def autolabel(rects):\n",
        "    \"\"\"Attach a text label above each bar in *rects*, displaying its height.\"\"\"\n",
        "    for rect in rects:\n",
        "        height = rect.get_height()\n",
        "        ax.annotate('{}'.format(height),\n",
        "                    xy=(rect.get_x() + rect.get_width() / 2, height),\n",
        "                    xytext=(0, 3),  # 3 points vertical offset\n",
        "                    textcoords=\"offset points\",\n",
        "                    ha='center', va='bottom')\n",
        "\n",
        "#plotando o grafico de barras agrupadas\n",
        "autolabel(rects1)\n",
        "autolabel(rects2)\n",
        "fig.tight_layout()\n",
        "\n",
        "plt.show()"
      ],
      "execution_count": 17,
      "outputs": [
        {
          "output_type": "display_data",
          "data": {
            "image/png": "[encoded data removed]",
            "text/plain": [
              "<Figure size 432x288 with 1 Axes>"
            ]
          },
          "metadata": {
            "tags": [],
            "needs_background": "light"
          }
        }
      ]
    },
    {
      "cell_type": "markdown",
      "metadata": {
        "id": "p_6LHRU0WoaJ"
      },
      "source": [
        "# KNN"
      ]
    },
    {
      "cell_type": "markdown",
      "metadata": {
        "id": "uem0TvVMWw-X"
      },
      "source": [
        "Vamos aplicar o primeiro modelo de classificação: o k-nearest neighbors!"
      ]
    },
    {
      "cell_type": "code",
      "metadata": {
        "id": "ECIYz7rg8N92"
      },
      "source": [
        "# importar o modelo de KNN\n",
        "from sklearn.neighbors import KNeighborsClassifier \n",
        "\n",
        "# treinando o modelo no conjunto de dados de treino\n",
        "classifier = KNeighborsClassifier().fit(train_data, train_labels);"
      ],
      "execution_count": 20,
      "outputs": []
    },
    {
      "cell_type": "code",
      "metadata": {
        "id": "E-2XWEDe8N98",
        "outputId": "4bfd7ca6-0159-4e1a-83c6-b3131af4f94b",
        "colab": {
          "base_uri": "https://localhost:8080/",
          "height": 359
        }
      },
      "source": [
        "# aplicando o modelo treinado para a previsão da temperatura \n",
        "#em todo o conjunto de teste\n",
        "predictions1_labels = classifier.predict(test_data)\n",
        "\n",
        "# Exibindo dataframe com valores 10 reais e suas respectivas previsões\n",
        "p = pd.DataFrame({'Real': test_labels, 'Previsto': predictions1_labels})  \n",
        "p.head(10)"
      ],
      "execution_count": 21,
      "outputs": [
        {
          "output_type": "execute_result",
          "data": {
            "text/html": [
              "<div>\n",
              "<style scoped>\n",
              "    .dataframe tbody tr th:only-of-type {\n",
              "        vertical-align: middle;\n",
              "    }\n",
              "\n",
              "    .dataframe tbody tr th {\n",
              "        vertical-align: top;\n",
              "    }\n",
              "\n",
              "    .dataframe thead th {\n",
              "        text-align: right;\n",
              "    }\n",
              "</style>\n",
              "<table border=\"1\" class=\"dataframe\">\n",
              "  <thead>\n",
              "    <tr style=\"text-align: right;\">\n",
              "      <th></th>\n",
              "      <th>Real</th>\n",
              "      <th>Previsto</th>\n",
              "    </tr>\n",
              "  </thead>\n",
              "  <tbody>\n",
              "    <tr>\n",
              "      <th>0</th>\n",
              "      <td>0</td>\n",
              "      <td>1</td>\n",
              "    </tr>\n",
              "    <tr>\n",
              "      <th>1</th>\n",
              "      <td>0</td>\n",
              "      <td>0</td>\n",
              "    </tr>\n",
              "    <tr>\n",
              "      <th>2</th>\n",
              "      <td>0</td>\n",
              "      <td>0</td>\n",
              "    </tr>\n",
              "    <tr>\n",
              "      <th>3</th>\n",
              "      <td>0</td>\n",
              "      <td>1</td>\n",
              "    </tr>\n",
              "    <tr>\n",
              "      <th>4</th>\n",
              "      <td>0</td>\n",
              "      <td>0</td>\n",
              "    </tr>\n",
              "    <tr>\n",
              "      <th>5</th>\n",
              "      <td>0</td>\n",
              "      <td>1</td>\n",
              "    </tr>\n",
              "    <tr>\n",
              "      <th>6</th>\n",
              "      <td>0</td>\n",
              "      <td>0</td>\n",
              "    </tr>\n",
              "    <tr>\n",
              "      <th>7</th>\n",
              "      <td>0</td>\n",
              "      <td>0</td>\n",
              "    </tr>\n",
              "    <tr>\n",
              "      <th>8</th>\n",
              "      <td>0</td>\n",
              "      <td>1</td>\n",
              "    </tr>\n",
              "    <tr>\n",
              "      <th>9</th>\n",
              "      <td>0</td>\n",
              "      <td>1</td>\n",
              "    </tr>\n",
              "  </tbody>\n",
              "</table>\n",
              "</div>"
            ],
            "text/plain": [
              "   Real  Previsto\n",
              "0     0         1\n",
              "1     0         0\n",
              "2     0         0\n",
              "3     0         1\n",
              "4     0         0\n",
              "5     0         1\n",
              "6     0         0\n",
              "7     0         0\n",
              "8     0         1\n",
              "9     0         1"
            ]
          },
          "metadata": {
            "tags": []
          },
          "execution_count": 21
        }
      ]
    },
    {
      "cell_type": "markdown",
      "metadata": {
        "id": "M_rj1T77X6Fy"
      },
      "source": [
        "Agora que criamos o modelo do knn e aplicamos o modelo criado ao conjunto de teste, podemos então avaliar o modelo gerado. "
      ]
    },
    {
      "cell_type": "code",
      "metadata": {
        "id": "UavyKXJ88N-A",
        "outputId": "b0e0b664-848e-4787-e37e-086b0dc70bcc",
        "colab": {
          "base_uri": "https://localhost:8080/",
          "height": 374
        }
      },
      "source": [
        "#avaliando o modelo\n",
        "print('Matriz de Confusão\\n', metrics.confusion_matrix(test_labels, predictions1_labels)) \n",
        "print('\\nAcurácia\\n', metrics.accuracy_score(test_labels, predictions1_labels)) \n",
        "print('\\nAcurácia Balanceada por classe\\n', metrics.balanced_accuracy_score(test_labels, predictions1_labels)) \n",
        "print('\\nPrecision\\n', metrics.precision_score(test_labels, predictions1_labels)) \n",
        "print('\\nRecall\\n', metrics.recall_score(test_labels, predictions1_labels)) \n",
        "print('\\nF1\\n', metrics.f1_score(test_labels, predictions1_labels)) \n",
        "\n",
        "print('\\nAUCROC\\n', metrics.roc_auc_score(test_labels, predictions1_labels))"
      ],
      "execution_count": 22,
      "outputs": [
        {
          "output_type": "stream",
          "text": [
            "Matriz de Confusão\n",
            " [[88 35]\n",
            " [31 38]]\n",
            "\n",
            "Acurácia\n",
            " 0.65625\n",
            "\n",
            "Acurácia Balanceada por classe\n",
            " 0.6330858960763521\n",
            "\n",
            "Precision\n",
            " 0.5205479452054794\n",
            "\n",
            "Recall\n",
            " 0.5507246376811594\n",
            "\n",
            "F1\n",
            " 0.5352112676056338\n",
            "\n",
            "AUCROC\n",
            " 0.633085896076352\n"
          ],
          "name": "stdout"
        }
      ]
    },
    {
      "cell_type": "markdown",
      "metadata": {
        "id": "KQ2Qg7WPfaAi"
      },
      "source": [
        "Resuminho:"
      ]
    },
    {
      "cell_type": "code",
      "metadata": {
        "id": "gBnEcrSbfeV3",
        "outputId": "00f4dea6-57e6-420b-c00e-2e0a96f843ae",
        "colab": {
          "base_uri": "https://localhost:8080/",
          "height": 204
        }
      },
      "source": [
        "print('\\nClassification Report\\n', metrics.classification_report(test_labels, predictions1_labels)) "
      ],
      "execution_count": 23,
      "outputs": [
        {
          "output_type": "stream",
          "text": [
            "\n",
            "Classification Report\n",
            "               precision    recall  f1-score   support\n",
            "\n",
            "           0       0.74      0.72      0.73       123\n",
            "           1       0.52      0.55      0.54        69\n",
            "\n",
            "    accuracy                           0.66       192\n",
            "   macro avg       0.63      0.63      0.63       192\n",
            "weighted avg       0.66      0.66      0.66       192\n",
            "\n"
          ],
          "name": "stdout"
        }
      ]
    },
    {
      "cell_type": "markdown",
      "metadata": {
        "id": "7A0leRBV8N-E"
      },
      "source": [
        "O knn ja encontrou um erro bem menor do que o encontrado pelo nosso baseline! \n",
        "Entretanto, as medidas ainda estão proximas do resultado de um modelo aleatorio. \n",
        "\n",
        "Vamos dar uma olhada como ficou o knn em relação as amostras de teste?\n",
        "\n",
        "*Novamente, não é preciso se preocupar com o código da célula abaixo. *"
      ]
    },
    {
      "cell_type": "code",
      "metadata": {
        "id": "8C1PMnjA8N-F",
        "outputId": "125dab77-6adf-44a8-aab9-769a79835127",
        "colab": {
          "base_uri": "https://localhost:8080/",
          "height": 297
        }
      },
      "source": [
        "#criando labels e os valores armazenados nas barras\n",
        "labels = ['Tested_negatives', 'Tested_positives']\n",
        "count_test = [(test_labels == 0).sum(), (test_labels == 1).sum()]\n",
        "count_knn = [(predictions1_labels == 0).sum(), (predictions1_labels == 1).sum()]\n",
        "\n",
        "#criando as barras\n",
        "x = np.arange(len(labels))  # the label locations\n",
        "width = 0.3  # the width of the bars\n",
        "\n",
        "#criancdo os plots\n",
        "fig, ax = plt.subplots()\n",
        "rects1 = ax.bar(x - width/2, count_test, width, label='Real Values')\n",
        "rects2 = ax.bar(x + width/2, count_knn, width, label='KNN Values')\n",
        "\n",
        "# Add some text for labels, title and custom x-axis tick labels, etc.\n",
        "ax.set_ylabel('Instances')\n",
        "ax.set_title('Real x KNN')\n",
        "ax.set_xticks(x)\n",
        "ax.set_xticklabels(labels)\n",
        "ax.legend()\n",
        "\n",
        "\n",
        "def autolabel(rects):\n",
        "    \"\"\"Attach a text label above each bar in *rects*, displaying its height.\"\"\"\n",
        "    for rect in rects:\n",
        "        height = rect.get_height()\n",
        "        ax.annotate('{}'.format(height),\n",
        "                    xy=(rect.get_x() + rect.get_width() / 2, height),\n",
        "                    xytext=(0, 3),  # 3 points vertical offset\n",
        "                    textcoords=\"offset points\",\n",
        "                    ha='center', va='bottom')\n",
        "\n",
        "#plotando o grafico de barras agrupadas\n",
        "autolabel(rects1)\n",
        "autolabel(rects2)\n",
        "fig.tight_layout()\n",
        "\n",
        "plt.show()"
      ],
      "execution_count": 24,
      "outputs": [
        {
          "output_type": "display_data",
          "data": {
            "image/png": "[encoded data removed]",
            "text/plain": [
              "<Figure size 432x288 with 1 Axes>"
            ]
          },
          "metadata": {
            "tags": [],
            "needs_background": "light"
          }
        }
      ]
    },
    {
      "cell_type": "markdown",
      "metadata": {
        "id": "aJXB1tN4ZSOI"
      },
      "source": [
        "# Support Vector Machine SVM"
      ]
    },
    {
      "cell_type": "markdown",
      "metadata": {
        "id": "mjfmk5HkZgjj"
      },
      "source": [
        "Vamos dar uma olhada agora no comportamento do SVM"
      ]
    },
    {
      "cell_type": "code",
      "metadata": {
        "id": "vE-1qSaUZsA9",
        "outputId": "45fadb50-7d00-4c1d-e1ac-403310064c4c",
        "colab": {
          "base_uri": "https://localhost:8080/",
          "height": 85
        }
      },
      "source": [
        "#importar o modelo SVM\n",
        "from sklearn.svm import SVC\n",
        "\n",
        "# instanciacao e determinacao dos hiperparâmetros do SVM: tipo de kernel\n",
        "classifier = SVC(kernel='rbf')\n",
        "\n",
        "# treinando o SVM\n",
        "classifier.fit(train_data,train_labels)"
      ],
      "execution_count": 25,
      "outputs": [
        {
          "output_type": "execute_result",
          "data": {
            "text/plain": [
              "SVC(C=1.0, break_ties=False, cache_size=200, class_weight=None, coef0=0.0,\n",
              "    decision_function_shape='ovr', degree=3, gamma='scale', kernel='rbf',\n",
              "    max_iter=-1, probability=False, random_state=None, shrinking=True,\n",
              "    tol=0.001, verbose=False)"
            ]
          },
          "metadata": {
            "tags": []
          },
          "execution_count": 25
        }
      ]
    },
    {
      "cell_type": "code",
      "metadata": {
        "id": "sEqrz0n9Zr5K",
        "outputId": "610dfaca-4129-4e6d-d2d6-e377bdb31a57",
        "colab": {
          "base_uri": "https://localhost:8080/",
          "height": 359
        }
      },
      "source": [
        "# aplicando o modelo treinado para a previsão da temperatura \n",
        "#em todo o conjunto de teste\n",
        "predictions2_labels = classifier.predict(test_data)\n",
        "\n",
        "# Exibindo dataframe com valores 10 reais e suas respectivas previsões\n",
        "p = pd.DataFrame({'Real': test_labels, 'Previsto': predictions2_labels})  \n",
        "p.head(10)"
      ],
      "execution_count": 26,
      "outputs": [
        {
          "output_type": "execute_result",
          "data": {
            "text/html": [
              "<div>\n",
              "<style scoped>\n",
              "    .dataframe tbody tr th:only-of-type {\n",
              "        vertical-align: middle;\n",
              "    }\n",
              "\n",
              "    .dataframe tbody tr th {\n",
              "        vertical-align: top;\n",
              "    }\n",
              "\n",
              "    .dataframe thead th {\n",
              "        text-align: right;\n",
              "    }\n",
              "</style>\n",
              "<table border=\"1\" class=\"dataframe\">\n",
              "  <thead>\n",
              "    <tr style=\"text-align: right;\">\n",
              "      <th></th>\n",
              "      <th>Real</th>\n",
              "      <th>Previsto</th>\n",
              "    </tr>\n",
              "  </thead>\n",
              "  <tbody>\n",
              "    <tr>\n",
              "      <th>0</th>\n",
              "      <td>0</td>\n",
              "      <td>0</td>\n",
              "    </tr>\n",
              "    <tr>\n",
              "      <th>1</th>\n",
              "      <td>0</td>\n",
              "      <td>0</td>\n",
              "    </tr>\n",
              "    <tr>\n",
              "      <th>2</th>\n",
              "      <td>0</td>\n",
              "      <td>0</td>\n",
              "    </tr>\n",
              "    <tr>\n",
              "      <th>3</th>\n",
              "      <td>0</td>\n",
              "      <td>0</td>\n",
              "    </tr>\n",
              "    <tr>\n",
              "      <th>4</th>\n",
              "      <td>0</td>\n",
              "      <td>0</td>\n",
              "    </tr>\n",
              "    <tr>\n",
              "      <th>5</th>\n",
              "      <td>0</td>\n",
              "      <td>0</td>\n",
              "    </tr>\n",
              "    <tr>\n",
              "      <th>6</th>\n",
              "      <td>0</td>\n",
              "      <td>0</td>\n",
              "    </tr>\n",
              "    <tr>\n",
              "      <th>7</th>\n",
              "      <td>0</td>\n",
              "      <td>0</td>\n",
              "    </tr>\n",
              "    <tr>\n",
              "      <th>8</th>\n",
              "      <td>0</td>\n",
              "      <td>1</td>\n",
              "    </tr>\n",
              "    <tr>\n",
              "      <th>9</th>\n",
              "      <td>0</td>\n",
              "      <td>1</td>\n",
              "    </tr>\n",
              "  </tbody>\n",
              "</table>\n",
              "</div>"
            ],
            "text/plain": [
              "   Real  Previsto\n",
              "0     0         0\n",
              "1     0         0\n",
              "2     0         0\n",
              "3     0         0\n",
              "4     0         0\n",
              "5     0         0\n",
              "6     0         0\n",
              "7     0         0\n",
              "8     0         1\n",
              "9     0         1"
            ]
          },
          "metadata": {
            "tags": []
          },
          "execution_count": 26
        }
      ]
    },
    {
      "cell_type": "code",
      "metadata": {
        "id": "sAkezhEKZrwC",
        "outputId": "aa496523-2cfe-4fbd-8e1b-6f54a6a0e40f",
        "colab": {
          "base_uri": "https://localhost:8080/",
          "height": 374
        }
      },
      "source": [
        "#avaliando o modelo \n",
        "print('Matriz de Confusão\\n', metrics.confusion_matrix(test_labels, predictions2_labels)) \n",
        "print('\\nAcurácia\\n', metrics.accuracy_score(test_labels, predictions2_labels)) \n",
        "print('\\nAcurácia Balanceada por classe\\n', metrics.balanced_accuracy_score(test_labels, predictions2_labels)) \n",
        "print('\\nPrecision\\n', metrics.precision_score(test_labels, predictions2_labels)) \n",
        "print('\\nRecall\\n', metrics.recall_score(test_labels, predictions2_labels)) \n",
        "print('\\nF1\\n', metrics.f1_score(test_labels, predictions2_labels)) \n",
        "\n",
        "print('\\nAUCROC\\n', metrics.roc_auc_score(test_labels, predictions2_labels))"
      ],
      "execution_count": 27,
      "outputs": [
        {
          "output_type": "stream",
          "text": [
            "Matriz de Confusão\n",
            " [[106  17]\n",
            " [ 35  34]]\n",
            "\n",
            "Acurácia\n",
            " 0.7291666666666666\n",
            "\n",
            "Acurácia Balanceada por classe\n",
            " 0.6772711205372923\n",
            "\n",
            "Precision\n",
            " 0.6666666666666666\n",
            "\n",
            "Recall\n",
            " 0.4927536231884058\n",
            "\n",
            "F1\n",
            " 0.5666666666666667\n",
            "\n",
            "AUCROC\n",
            " 0.6772711205372923\n"
          ],
          "name": "stdout"
        }
      ]
    },
    {
      "cell_type": "markdown",
      "metadata": {
        "id": "tWz5vVEkiQr2"
      },
      "source": [
        "Resuminho..."
      ]
    },
    {
      "cell_type": "code",
      "metadata": {
        "id": "IFGJLVR0iPtf",
        "outputId": "27258808-0014-471a-f8c9-896eeb9aab22",
        "colab": {
          "base_uri": "https://localhost:8080/",
          "height": 204
        }
      },
      "source": [
        "print('\\nClassification Report\\n', metrics.classification_report(test_labels, predictions2_labels)) "
      ],
      "execution_count": 28,
      "outputs": [
        {
          "output_type": "stream",
          "text": [
            "\n",
            "Classification Report\n",
            "               precision    recall  f1-score   support\n",
            "\n",
            "           0       0.75      0.86      0.80       123\n",
            "           1       0.67      0.49      0.57        69\n",
            "\n",
            "    accuracy                           0.73       192\n",
            "   macro avg       0.71      0.68      0.68       192\n",
            "weighted avg       0.72      0.73      0.72       192\n",
            "\n"
          ],
          "name": "stdout"
        }
      ]
    },
    {
      "cell_type": "markdown",
      "metadata": {
        "id": "GlmZZD4EbOmY"
      },
      "source": [
        "Vamos olhar como ficou o modelo? :)\n",
        "\n",
        "*Novamente, não precisa se preocupar com o código abaixo.*"
      ]
    },
    {
      "cell_type": "code",
      "metadata": {
        "id": "hzlc5wcha-a7",
        "outputId": "f9af7cfd-1f5a-4444-8550-e8bcd2deb954",
        "colab": {
          "base_uri": "https://localhost:8080/",
          "height": 297
        }
      },
      "source": [
        "#criando labels e os valores armazenados nas barras\n",
        "labels = ['Tested_negatives', 'Tested_positives']\n",
        "count_test = [(test_labels == 0).sum(), (test_labels == 1).sum()]\n",
        "count_svm = [(predictions2_labels == 0).sum(), (predictions2_labels == 1).sum()]\n",
        "\n",
        "#criando as barras\n",
        "x = np.arange(len(labels))  # the label locations\n",
        "width = 0.3  # the width of the bars\n",
        "\n",
        "#criancdo os plots\n",
        "fig, ax = plt.subplots()\n",
        "rects1 = ax.bar(x - width/2, count_test, width, label='Real Values')\n",
        "rects2 = ax.bar(x + width/2, count_svm, width, label='SVM Values')\n",
        "\n",
        "# Add some text for labels, title and custom x-axis tick labels, etc.\n",
        "ax.set_ylabel('Instances')\n",
        "ax.set_title('Real x SVM')\n",
        "ax.set_xticks(x)\n",
        "ax.set_xticklabels(labels)\n",
        "ax.legend()\n",
        "\n",
        "\n",
        "def autolabel(rects):\n",
        "    \"\"\"Attach a text label above each bar in *rects*, displaying its height.\"\"\"\n",
        "    for rect in rects:\n",
        "        height = rect.get_height()\n",
        "        ax.annotate('{}'.format(height),\n",
        "                    xy=(rect.get_x() + rect.get_width() / 2, height),\n",
        "                    xytext=(0, 3),  # 3 points vertical offset\n",
        "                    textcoords=\"offset points\",\n",
        "                    ha='center', va='bottom')\n",
        "\n",
        "#plotando o grafico de barras agrupadas\n",
        "autolabel(rects1)\n",
        "autolabel(rects2)\n",
        "fig.tight_layout()\n",
        "\n",
        "plt.show()"
      ],
      "execution_count": 29,
      "outputs": [
        {
          "output_type": "display_data",
          "data": {
            "image/png": "[encoded data removed]",
            "text/plain": [
              "<Figure size 432x288 with 1 Axes>"
            ]
          },
          "metadata": {
            "tags": [],
            "needs_background": "light"
          }
        }
      ]
    },
    {
      "cell_type": "markdown",
      "metadata": {
        "id": "MglFMlLLbggA"
      },
      "source": [
        "# Random Forest Classifiers\n"
      ]
    },
    {
      "cell_type": "markdown",
      "metadata": {
        "id": "0qjPEqNfbmtk"
      },
      "source": [
        "Vamos agora modelar o nosso problema utilizando o Random Forest Classifier!\n",
        "\n",
        "Esse modelo é um dos mais utilizados tanto na sua versão de regressor quanto para sua versão de classificador e, em geral, apresenta otimos resultados!"
      ]
    },
    {
      "cell_type": "code",
      "metadata": {
        "id": "7LrKgJhb8N-K"
      },
      "source": [
        "# importar o modelo Random Forest Regressor\n",
        "from sklearn.ensemble import RandomForestClassifier\n",
        "\n",
        "# treinando o modelo \n",
        "classifier = RandomForestClassifier(n_estimators= 10, random_state=42).fit(train_data, train_labels);"
      ],
      "execution_count": 30,
      "outputs": []
    },
    {
      "cell_type": "code",
      "metadata": {
        "id": "o86GOgTY8N-P",
        "outputId": "b72728ee-1aa9-4477-b4c2-55816263eece",
        "colab": {
          "base_uri": "https://localhost:8080/",
          "height": 359
        }
      },
      "source": [
        "# aplicando o modelo treinado para a previsão do resultado do teste\n",
        "predictions3_labels = classifier.predict(test_data)\n",
        "\n",
        "# Exibindo dataframe com valores 10 reais e suas respectivas previsões\n",
        "p = pd.DataFrame({'Real': test_labels, 'Previsto': predictions3_labels})  \n",
        "p.head(10)"
      ],
      "execution_count": 31,
      "outputs": [
        {
          "output_type": "execute_result",
          "data": {
            "text/html": [
              "<div>\n",
              "<style scoped>\n",
              "    .dataframe tbody tr th:only-of-type {\n",
              "        vertical-align: middle;\n",
              "    }\n",
              "\n",
              "    .dataframe tbody tr th {\n",
              "        vertical-align: top;\n",
              "    }\n",
              "\n",
              "    .dataframe thead th {\n",
              "        text-align: right;\n",
              "    }\n",
              "</style>\n",
              "<table border=\"1\" class=\"dataframe\">\n",
              "  <thead>\n",
              "    <tr style=\"text-align: right;\">\n",
              "      <th></th>\n",
              "      <th>Real</th>\n",
              "      <th>Previsto</th>\n",
              "    </tr>\n",
              "  </thead>\n",
              "  <tbody>\n",
              "    <tr>\n",
              "      <th>0</th>\n",
              "      <td>0</td>\n",
              "      <td>0</td>\n",
              "    </tr>\n",
              "    <tr>\n",
              "      <th>1</th>\n",
              "      <td>0</td>\n",
              "      <td>0</td>\n",
              "    </tr>\n",
              "    <tr>\n",
              "      <th>2</th>\n",
              "      <td>0</td>\n",
              "      <td>0</td>\n",
              "    </tr>\n",
              "    <tr>\n",
              "      <th>3</th>\n",
              "      <td>0</td>\n",
              "      <td>0</td>\n",
              "    </tr>\n",
              "    <tr>\n",
              "      <th>4</th>\n",
              "      <td>0</td>\n",
              "      <td>0</td>\n",
              "    </tr>\n",
              "    <tr>\n",
              "      <th>5</th>\n",
              "      <td>0</td>\n",
              "      <td>1</td>\n",
              "    </tr>\n",
              "    <tr>\n",
              "      <th>6</th>\n",
              "      <td>0</td>\n",
              "      <td>0</td>\n",
              "    </tr>\n",
              "    <tr>\n",
              "      <th>7</th>\n",
              "      <td>0</td>\n",
              "      <td>1</td>\n",
              "    </tr>\n",
              "    <tr>\n",
              "      <th>8</th>\n",
              "      <td>0</td>\n",
              "      <td>1</td>\n",
              "    </tr>\n",
              "    <tr>\n",
              "      <th>9</th>\n",
              "      <td>0</td>\n",
              "      <td>1</td>\n",
              "    </tr>\n",
              "  </tbody>\n",
              "</table>\n",
              "</div>"
            ],
            "text/plain": [
              "   Real  Previsto\n",
              "0     0         0\n",
              "1     0         0\n",
              "2     0         0\n",
              "3     0         0\n",
              "4     0         0\n",
              "5     0         1\n",
              "6     0         0\n",
              "7     0         1\n",
              "8     0         1\n",
              "9     0         1"
            ]
          },
          "metadata": {
            "tags": []
          },
          "execution_count": 31
        }
      ]
    },
    {
      "cell_type": "code",
      "metadata": {
        "id": "j3XYU8C_clmb",
        "outputId": "7d7c843e-a6c9-4eb6-936c-ca6ce28f56b7",
        "colab": {
          "base_uri": "https://localhost:8080/",
          "height": 374
        }
      },
      "source": [
        "#avaliando o modelo\n",
        "print('Matriz de Confusão\\n', metrics.confusion_matrix(test_labels, predictions3_labels)) \n",
        "print('\\nAcurácia\\n', metrics.accuracy_score(test_labels, predictions3_labels)) \n",
        "print('\\nAcurácia Balanceada por classe\\n', metrics.balanced_accuracy_score(test_labels, predictions3_labels)) \n",
        "print('\\nPrecision\\n', metrics.precision_score(test_labels, predictions3_labels)) \n",
        "print('\\nRecall\\n', metrics.recall_score(test_labels, predictions3_labels)) \n",
        "print('\\nF1\\n', metrics.f1_score(test_labels, predictions3_labels)) \n",
        "\n",
        "print('\\nAUCROC\\n', metrics.roc_auc_score(test_labels, predictions3_labels))"
      ],
      "execution_count": 32,
      "outputs": [
        {
          "output_type": "stream",
          "text": [
            "Matriz de Confusão\n",
            " [[97 26]\n",
            " [24 45]]\n",
            "\n",
            "Acurácia\n",
            " 0.7395833333333334\n",
            "\n",
            "Acurácia Balanceada por classe\n",
            " 0.72039589961117\n",
            "\n",
            "Precision\n",
            " 0.6338028169014085\n",
            "\n",
            "Recall\n",
            " 0.6521739130434783\n",
            "\n",
            "F1\n",
            " 0.6428571428571428\n",
            "\n",
            "AUCROC\n",
            " 0.72039589961117\n"
          ],
          "name": "stdout"
        }
      ]
    },
    {
      "cell_type": "markdown",
      "metadata": {
        "id": "Ekq770pckaJp"
      },
      "source": [
        "Resuminho...\n",
        "\n"
      ]
    },
    {
      "cell_type": "code",
      "metadata": {
        "id": "ie2ZqN7pka5m",
        "outputId": "4125f930-1238-4e3b-f7f9-78e1a2237af9",
        "colab": {
          "base_uri": "https://localhost:8080/",
          "height": 204
        }
      },
      "source": [
        "print('\\nClassification Report\\n', metrics.classification_report(test_labels, predictions3_labels)) "
      ],
      "execution_count": 33,
      "outputs": [
        {
          "output_type": "stream",
          "text": [
            "\n",
            "Classification Report\n",
            "               precision    recall  f1-score   support\n",
            "\n",
            "           0       0.80      0.79      0.80       123\n",
            "           1       0.63      0.65      0.64        69\n",
            "\n",
            "    accuracy                           0.74       192\n",
            "   macro avg       0.72      0.72      0.72       192\n",
            "weighted avg       0.74      0.74      0.74       192\n",
            "\n"
          ],
          "name": "stdout"
        }
      ]
    },
    {
      "cell_type": "markdown",
      "metadata": {
        "id": "C2q6M07mc1Sm"
      },
      "source": [
        "Vamos olhar como ficou o modelo? :)\n",
        "\n",
        "*Novamente, não precisa se preocupar com o código abaixo.*"
      ]
    },
    {
      "cell_type": "code",
      "metadata": {
        "id": "dVZgXwW18N-W",
        "outputId": "03385223-6ef3-409a-a9b2-7a91510097e8",
        "colab": {
          "base_uri": "https://localhost:8080/",
          "height": 297
        }
      },
      "source": [
        "#criando labels e os valores armazenados nas barras\n",
        "labels = ['Tested_negatives', 'Tested_positives']\n",
        "count_test = [(test_labels == 0).sum(), (test_labels == 1).sum()]\n",
        "count_rf = [(predictions3_labels == 0).sum(), (predictions3_labels == 1).sum()]\n",
        "\n",
        "#criando as barras\n",
        "x = np.arange(len(labels))  # the label locations\n",
        "width = 0.3  # the width of the bars\n",
        "\n",
        "#criancdo os plots\n",
        "fig, ax = plt.subplots()\n",
        "rects1 = ax.bar(x - width/2, count_test, width, label='Real Values')\n",
        "rects2 = ax.bar(x + width/2, count_rf, width, label='RF Values')\n",
        "\n",
        "# Add some text for labels, title and custom x-axis tick labels, etc.\n",
        "ax.set_ylabel('Instances')\n",
        "ax.set_title('Real x Random Forest')\n",
        "ax.set_xticks(x)\n",
        "ax.set_xticklabels(labels)\n",
        "ax.legend()\n",
        "\n",
        "\n",
        "def autolabel(rects):\n",
        "    \"\"\"Attach a text label above each bar in *rects*, displaying its height.\"\"\"\n",
        "    for rect in rects:\n",
        "        height = rect.get_height()\n",
        "        ax.annotate('{}'.format(height),\n",
        "                    xy=(rect.get_x() + rect.get_width() / 2, height),\n",
        "                    xytext=(0, 3),  # 3 points vertical offset\n",
        "                    textcoords=\"offset points\",\n",
        "                    ha='center', va='bottom')\n",
        "\n",
        "#plotando o grafico de barras agrupadas\n",
        "autolabel(rects1)\n",
        "autolabel(rects2)\n",
        "fig.tight_layout()\n",
        "\n",
        "plt.show()"
      ],
      "execution_count": 34,
      "outputs": [
        {
          "output_type": "display_data",
          "data": {
            "image/png": "[encoded data removed]",
            "text/plain": [
              "<Figure size 432x288 with 1 Axes>"
            ]
          },
          "metadata": {
            "tags": [],
            "needs_background": "light"
          }
        }
      ]
    },
    {
      "cell_type": "markdown",
      "metadata": {
        "id": "Ur8gD8oI8N-Y"
      },
      "source": [
        "Vamos agora comparar os resultados do 3 modelos de classificação e o nosso baseline?"
      ]
    },
    {
      "cell_type": "code",
      "metadata": {
        "id": "AviWSy_sehpN",
        "outputId": "ca40353c-d0cc-4f5b-ee63-1e50face9603",
        "colab": {
          "base_uri": "https://localhost:8080/",
          "height": 221
        }
      },
      "source": [
        "print('Erros do Baseline\\n')\n",
        "print('Classification Report\\n', metrics.classification_report(test_labels, baseline_preds)) \n"
      ],
      "execution_count": 35,
      "outputs": [
        {
          "output_type": "stream",
          "text": [
            "Erros do Baseline\n",
            "\n",
            "Classification Report\n",
            "               precision    recall  f1-score   support\n",
            "\n",
            "           0       0.60      0.43      0.50       123\n",
            "           1       0.33      0.49      0.39        69\n",
            "\n",
            "    accuracy                           0.45       192\n",
            "   macro avg       0.46      0.46      0.45       192\n",
            "weighted avg       0.50      0.45      0.46       192\n",
            "\n"
          ],
          "name": "stdout"
        }
      ]
    },
    {
      "cell_type": "code",
      "metadata": {
        "id": "V6riPr0lehgA",
        "outputId": "c0ca60a0-4206-49b5-96d5-e80205b41942",
        "colab": {
          "base_uri": "https://localhost:8080/",
          "height": 221
        }
      },
      "source": [
        "print('Erros do KNN\\n')\n",
        "print('Classification Report\\n', metrics.classification_report(test_labels, predictions1_labels)) "
      ],
      "execution_count": 36,
      "outputs": [
        {
          "output_type": "stream",
          "text": [
            "Erros do KNN\n",
            "\n",
            "Classification Report\n",
            "               precision    recall  f1-score   support\n",
            "\n",
            "           0       0.74      0.72      0.73       123\n",
            "           1       0.52      0.55      0.54        69\n",
            "\n",
            "    accuracy                           0.66       192\n",
            "   macro avg       0.63      0.63      0.63       192\n",
            "weighted avg       0.66      0.66      0.66       192\n",
            "\n"
          ],
          "name": "stdout"
        }
      ]
    },
    {
      "cell_type": "code",
      "metadata": {
        "id": "faWz7JGvehT_",
        "outputId": "b3c885a1-2b6f-47ca-b575-28c81a1445fb",
        "colab": {
          "base_uri": "https://localhost:8080/",
          "height": 204
        }
      },
      "source": [
        "print('Erros do SVM')\n",
        "print('Classification Report\\n', metrics.classification_report(test_labels, predictions2_labels)) "
      ],
      "execution_count": 37,
      "outputs": [
        {
          "output_type": "stream",
          "text": [
            "Erros do SVM\n",
            "Classification Report\n",
            "               precision    recall  f1-score   support\n",
            "\n",
            "           0       0.75      0.86      0.80       123\n",
            "           1       0.67      0.49      0.57        69\n",
            "\n",
            "    accuracy                           0.73       192\n",
            "   macro avg       0.71      0.68      0.68       192\n",
            "weighted avg       0.72      0.73      0.72       192\n",
            "\n"
          ],
          "name": "stdout"
        }
      ]
    },
    {
      "cell_type": "code",
      "metadata": {
        "id": "S2hKjSOSd4sh",
        "outputId": "aba09513-babf-46f4-cb5b-638b50d965b9",
        "colab": {
          "base_uri": "https://localhost:8080/",
          "height": 204
        }
      },
      "source": [
        "print('Erros do Random Forest Classifier')\n",
        "print('Classification Report\\n', metrics.classification_report(test_labels, predictions3_labels)) "
      ],
      "execution_count": 38,
      "outputs": [
        {
          "output_type": "stream",
          "text": [
            "Erros do Random Forest Classifier\n",
            "Classification Report\n",
            "               precision    recall  f1-score   support\n",
            "\n",
            "           0       0.80      0.79      0.80       123\n",
            "           1       0.63      0.65      0.64        69\n",
            "\n",
            "    accuracy                           0.74       192\n",
            "   macro avg       0.72      0.72      0.72       192\n",
            "weighted avg       0.74      0.74      0.74       192\n",
            "\n"
          ],
          "name": "stdout"
        }
      ]
    },
    {
      "cell_type": "markdown",
      "metadata": {
        "id": "9Yvn2Ui9fDyK"
      },
      "source": [
        "# Na próxima aula vamos começar a falar sobre métricas de desempenho para clusterização.\n",
        "\n",
        "#Até lá!"
      ]
    }
  ]
}